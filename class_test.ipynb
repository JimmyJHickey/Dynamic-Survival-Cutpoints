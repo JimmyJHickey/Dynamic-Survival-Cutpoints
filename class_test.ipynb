{
 "cells": [
  {
   "cell_type": "code",
   "execution_count": 1,
   "metadata": {},
   "outputs": [],
   "source": [
    "# https://stackoverflow.com/questions/5364050/reloading-submodules-in-ipython\n",
    "%load_ext autoreload\n",
    "%autoreload 2\n",
    "\n",
    "from multilevel_cutpoint_model import CutpointModel\n",
    "# from multilevel_cutpoint_model import discrete_ci\n",
    "import numpy as np\n",
    "import pandas as pd\n",
    "import matplotlib.pyplot as plt\n",
    "import torch\n",
    "from node import Node"
   ]
  },
  {
   "cell_type": "markdown",
   "metadata": {},
   "source": [
    "# Make Moons"
   ]
  },
  {
   "cell_type": "code",
   "execution_count": 2,
   "metadata": {},
   "outputs": [],
   "source": [
    "from matplotlib.colors import ListedColormap\n",
    "from sklearn.model_selection import train_test_split\n",
    "from sklearn.datasets import make_moons"
   ]
  },
  {
   "cell_type": "code",
   "execution_count": 3,
   "metadata": {},
   "outputs": [],
   "source": [
    "# y_moon indicates if the data will be in the first bucket or the second\n",
    "N = 10000\n",
    "X, y_moon = make_moons(n_samples = N, noise=0.3, random_state=1978)\n",
    "\n",
    "# drop 1/2 of the 1 moons \n",
    "# want y_moon plot to look even and censoring to look even\n",
    "# try higher value of sigmoid if it can't find the cutpoint\n",
    "combined = np.append(X, y_moon[:,None], 1)\n",
    "combined_sorted = combined[combined[:, -1].argsort()]\n",
    "combined_sorted = combined_sorted[:7500,:]\n",
    "np.random.shuffle(combined_sorted)\n",
    "X = combined_sorted[:,:-1]\n",
    "y_moon = combined_sorted[:,-1]\n",
    "\n",
    "t_min = 0\n",
    "t_boundary = 67\n",
    "t_max = 100\n",
    "t = np.zeros(len(y_moon))\n",
    "\n",
    "# s = np.random.binomial(1, 0.5, len(y_moon))\n",
    "s = np.random.binomial(1, 1, len(y_moon))\n",
    "\n",
    "for ii in range(0, len(y_moon)):\n",
    "    if y_moon[ii] == 0:\n",
    "        t[ii] = np.random.uniform(t_min, t_boundary)\n",
    "    elif y_moon[ii] == 1:\n",
    "        \n",
    "        t[ii] = np.random.uniform(t_boundary, t_max)\n",
    "        \n",
    "# t = t[1:int(N * 3/4)]\n",
    "# s = s[1:int(N * 3/4)]\n",
    "# y_moon = y_moon[1:int(N * 3/4)]\n",
    "# X = X[1:int(N * 3/4), :]"
   ]
  },
  {
   "cell_type": "code",
   "execution_count": 4,
   "metadata": {},
   "outputs": [
    {
     "data": {
      "image/png": "[encoded data removed]",
      "text/plain": [
       "<Figure size 432x288 with 1 Axes>"
      ]
     },
     "metadata": {
      "needs_background": "light"
     },
     "output_type": "display_data"
    }
   ],
   "source": [
    "plt.hist(t[y_moon==0], bins=50, alpha = 0.5, color = \"blue\", label=\"clust1\")\n",
    "plt.hist(t[y_moon==1], bins=25, alpha = 0.5, color = \"red\", label=\"clust2\")\n",
    "plt.axvline(t_boundary, color=\"black\")\n",
    "plt.legend()\n",
    "plt.show()"
   ]
  },
  {
   "cell_type": "code",
   "execution_count": 5,
   "metadata": {},
   "outputs": [
    {
     "data": {
      "image/png": "[encoded data removed]",
      "text/plain": [
       "<Figure size 432x288 with 1 Axes>"
      ]
     },
     "metadata": {
      "needs_background": "light"
     },
     "output_type": "display_data"
    }
   ],
   "source": [
    "plt.hist(t[s==0], bins=50, alpha = 0.5, color = \"blue\", label=\"censor\")\n",
    "plt.hist(t[s==1], bins=50, alpha = 0.5, color = \"red\", label=\"endpoint\")\n",
    "plt.axvline(67, color=\"black\")\n",
    "plt.legend()\n",
    "plt.show()"
   ]
  },
  {
   "cell_type": "code",
   "execution_count": 6,
   "metadata": {},
   "outputs": [],
   "source": [
    "X_train, X_test, \\\n",
    "t_train, t_test,\\\n",
    "s_train, s_test = train_test_split(\n",
    "    X, t, s, test_size=0.2, random_state=1978\n",
    ")"
   ]
  },
  {
   "cell_type": "code",
   "execution_count": 7,
   "metadata": {},
   "outputs": [
    {
     "name": "stdout",
     "output_type": "stream",
     "text": [
      "[0.63294926 0.88685329 0.42019239 0.26377374 0.08821319]\n"
     ]
    }
   ],
   "source": [
    "print((t_train[0:5] - min(t_train)) / (max(t_train) - min(t_train)) )"
   ]
  },
  {
   "cell_type": "code",
   "execution_count": 8,
   "metadata": {
    "scrolled": true
   },
   "outputs": [
    {
     "name": "stdout",
     "output_type": "stream",
     "text": [
      "1\n",
      "loss 1.3540555238723755\n",
      "cutpoint 0.25\n",
      "2\n",
      "loss 1.3333358764648438\n",
      "cutpoint 0.23999999463558197\n",
      "3\n",
      "loss 1.3127108812332153\n",
      "cutpoint 0.23000775277614594\n",
      "4\n",
      "loss 1.2919172048568726\n",
      "cutpoint 0.2200259566307068\n",
      "5\n",
      "loss 1.270562767982483\n",
      "cutpoint 0.2100333273410797\n",
      "6\n",
      "loss 1.2483376264572144\n",
      "cutpoint 0.19999638199806213\n",
      "7\n",
      "loss 1.2254172563552856\n",
      "cutpoint 0.18990060687065125\n",
      "8\n",
      "loss 1.2022637128829956\n",
      "cutpoint 0.1797490417957306\n",
      "9\n",
      "loss 1.1791930198669434\n",
      "cutpoint 0.16956253349781036\n",
      "10\n",
      "loss 1.1561285257339478\n",
      "cutpoint 0.15936820209026337\n",
      "11\n",
      "loss 1.1327012777328491\n",
      "cutpoint 0.1491706520318985\n",
      "12\n",
      "loss 1.1085485219955444\n",
      "cutpoint 0.13894453644752502\n",
      "13\n",
      "loss 1.0836137533187866\n",
      "cutpoint 0.12865813076496124\n",
      "14\n",
      "loss 1.0581213235855103\n",
      "cutpoint 0.11829770356416702\n",
      "15\n",
      "loss 1.0321578979492188\n",
      "cutpoint 0.10786556452512741\n",
      "16\n",
      "loss 1.0055201053619385\n",
      "cutpoint 0.0973576009273529\n",
      "17\n",
      "loss 0.9781254529953003\n",
      "cutpoint 0.0867600291967392\n",
      "18\n",
      "loss 0.9500983357429504\n",
      "cutpoint 0.07606635242700577\n",
      "19\n",
      "loss 0.9216409921646118\n",
      "cutpoint 0.06527956575155258\n",
      "20\n",
      "loss 0.8930676579475403\n",
      "cutpoint 0.054415345191955566\n",
      "21\n",
      "loss 0.8645241260528564\n",
      "cutpoint 0.043499767780303955\n",
      "22\n",
      "loss 0.8361465334892273\n",
      "cutpoint 0.03255500644445419\n",
      "23\n",
      "loss 0.8086285591125488\n",
      "cutpoint 0.021619541570544243\n",
      "24\n",
      "loss 0.783095121383667\n",
      "cutpoint 0.010796596296131611\n",
      "25\n",
      "loss 0.7601996064186096\n",
      "cutpoint 0.0002783238887786865\n"
     ]
    },
    {
     "ename": "ValueError",
     "evalue": "Expected value argument (Tensor of shape ()) to be within the support (Interval(lower_bound=0.0, upper_bound=1.0)) of the distribution Beta(), but found invalid values:\n-0.009712642058730125",
     "output_type": "error",
     "traceback": [
      "\u001b[1;31m---------------------------------------------------------------------------\u001b[0m",
      "\u001b[1;31mValueError\u001b[0m                                Traceback (most recent call last)",
      "\u001b[1;32m<ipython-input-8-67912a47252f>\u001b[0m in \u001b[0;36m<module>\u001b[1;34m\u001b[0m\n\u001b[0;32m      2\u001b[0m \u001b[1;33m\u001b[0m\u001b[0m\n\u001b[0;32m      3\u001b[0m \u001b[0mm\u001b[0m \u001b[1;33m=\u001b[0m \u001b[0mCutpointModel\u001b[0m\u001b[1;33m(\u001b[0m\u001b[0mX_train\u001b[0m\u001b[1;33m,\u001b[0m \u001b[0mt_train\u001b[0m\u001b[1;33m,\u001b[0m \u001b[0ms_train\u001b[0m\u001b[1;33m,\u001b[0m \u001b[0msigmoid_temperature\u001b[0m \u001b[1;33m=\u001b[0m \u001b[1;36m0.01\u001b[0m\u001b[1;33m,\u001b[0m \u001b[0mdepth\u001b[0m \u001b[1;33m=\u001b[0m \u001b[1;36m0\u001b[0m\u001b[1;33m,\u001b[0m \u001b[0miterations\u001b[0m \u001b[1;33m=\u001b[0m \u001b[1;36m250\u001b[0m\u001b[1;33m,\u001b[0m \u001b[0mprior_strength\u001b[0m \u001b[1;33m=\u001b[0m \u001b[1;36m0.0\u001b[0m\u001b[1;33m)\u001b[0m\u001b[1;33m\u001b[0m\u001b[1;33m\u001b[0m\u001b[0m\n\u001b[1;32m----> 4\u001b[1;33m \u001b[0mm\u001b[0m\u001b[1;33m.\u001b[0m\u001b[0mtrain\u001b[0m\u001b[1;33m(\u001b[0m\u001b[1;33m)\u001b[0m\u001b[1;33m\u001b[0m\u001b[1;33m\u001b[0m\u001b[0m\n\u001b[0m",
      "\u001b[1;32m~\\home\\git\\Dynamic-Survival-Cutpoints\\multilevel_cutpoint_model.py\u001b[0m in \u001b[0;36mtrain\u001b[1;34m(self)\u001b[0m\n\u001b[0;32m    152\u001b[0m                 \u001b[0mcurrent_layers\u001b[0m \u001b[1;33m=\u001b[0m \u001b[0mself\u001b[0m\u001b[1;33m.\u001b[0m\u001b[0mlayers\u001b[0m\u001b[1;33m[\u001b[0m\u001b[0mcurrent_depth\u001b[0m\u001b[1;33m]\u001b[0m\u001b[1;33m\u001b[0m\u001b[1;33m\u001b[0m\u001b[0m\n\u001b[0;32m    153\u001b[0m                 \u001b[0mcurrent_cutpoints\u001b[0m \u001b[1;33m=\u001b[0m \u001b[1;33m[\u001b[0m\u001b[0mself\u001b[0m\u001b[1;33m.\u001b[0m\u001b[0mcutpoints\u001b[0m\u001b[1;33m[\u001b[0m\u001b[0mi\u001b[0m\u001b[1;33m]\u001b[0m \u001b[1;32mfor\u001b[0m \u001b[0mi\u001b[0m \u001b[1;32min\u001b[0m \u001b[0mindices\u001b[0m\u001b[1;33m]\u001b[0m\u001b[1;33m\u001b[0m\u001b[1;33m\u001b[0m\u001b[0m\n\u001b[1;32m--> 154\u001b[1;33m                 loss_layers[current_depth] = self.multinomial_loss(self.X_train, self.t_train, self.s_train,\n\u001b[0m\u001b[0;32m    155\u001b[0m                                                                    current_layers, current_cutpoints)\n\u001b[0;32m    156\u001b[0m \u001b[1;33m\u001b[0m\u001b[0m\n",
      "\u001b[1;32m~\\home\\git\\Dynamic-Survival-Cutpoints\\multilevel_cutpoint_model.py\u001b[0m in \u001b[0;36mmultinomial_loss\u001b[1;34m(self, X, t, s, layer_net, cutpoints)\u001b[0m\n\u001b[0;32m    123\u001b[0m \u001b[1;33m\u001b[0m\u001b[0m\n\u001b[0;32m    124\u001b[0m             \u001b[0mtemp\u001b[0m \u001b[1;33m=\u001b[0m \u001b[1;33m(\u001b[0m\u001b[0mcurr\u001b[0m \u001b[1;33m-\u001b[0m \u001b[0mlb\u001b[0m\u001b[1;33m)\u001b[0m \u001b[1;33m/\u001b[0m \u001b[1;33m(\u001b[0m\u001b[0mrb\u001b[0m \u001b[1;33m-\u001b[0m \u001b[0mlb\u001b[0m\u001b[1;33m)\u001b[0m\u001b[1;33m\u001b[0m\u001b[1;33m\u001b[0m\u001b[0m\n\u001b[1;32m--> 125\u001b[1;33m             \u001b[0mprior\u001b[0m \u001b[1;33m+=\u001b[0m \u001b[1;33m-\u001b[0m\u001b[1;36m1\u001b[0m \u001b[1;33m*\u001b[0m \u001b[0mself\u001b[0m\u001b[1;33m.\u001b[0m\u001b[0mprior_strength\u001b[0m \u001b[1;33m*\u001b[0m \u001b[0mtorch\u001b[0m\u001b[1;33m.\u001b[0m\u001b[0mdistributions\u001b[0m\u001b[1;33m.\u001b[0m\u001b[0mBeta\u001b[0m\u001b[1;33m(\u001b[0m\u001b[0mtorch\u001b[0m\u001b[1;33m.\u001b[0m\u001b[0mtensor\u001b[0m\u001b[1;33m(\u001b[0m\u001b[1;36m1.5\u001b[0m\u001b[1;33m)\u001b[0m\u001b[1;33m,\u001b[0m \u001b[0mtorch\u001b[0m\u001b[1;33m.\u001b[0m\u001b[0mtensor\u001b[0m\u001b[1;33m(\u001b[0m\u001b[1;36m1.5\u001b[0m\u001b[1;33m)\u001b[0m\u001b[1;33m)\u001b[0m\u001b[1;33m.\u001b[0m\u001b[0mlog_prob\u001b[0m\u001b[1;33m(\u001b[0m\u001b[0mtemp\u001b[0m\u001b[1;33m)\u001b[0m\u001b[1;33m\u001b[0m\u001b[1;33m\u001b[0m\u001b[0m\n\u001b[0m\u001b[0;32m    126\u001b[0m \u001b[1;33m\u001b[0m\u001b[0m\n\u001b[0;32m    127\u001b[0m         \u001b[1;32mreturn\u001b[0m \u001b[0mnll\u001b[0m \u001b[1;33m+\u001b[0m \u001b[0mprior\u001b[0m\u001b[1;33m\u001b[0m\u001b[1;33m\u001b[0m\u001b[0m\n",
      "\u001b[1;32m~\\anaconda3\\lib\\site-packages\\torch\\distributions\\beta.py\u001b[0m in \u001b[0;36mlog_prob\u001b[1;34m(self, value)\u001b[0m\n\u001b[0;32m     60\u001b[0m     \u001b[1;32mdef\u001b[0m \u001b[0mlog_prob\u001b[0m\u001b[1;33m(\u001b[0m\u001b[0mself\u001b[0m\u001b[1;33m,\u001b[0m \u001b[0mvalue\u001b[0m\u001b[1;33m)\u001b[0m\u001b[1;33m:\u001b[0m\u001b[1;33m\u001b[0m\u001b[1;33m\u001b[0m\u001b[0m\n\u001b[0;32m     61\u001b[0m         \u001b[1;32mif\u001b[0m \u001b[0mself\u001b[0m\u001b[1;33m.\u001b[0m\u001b[0m_validate_args\u001b[0m\u001b[1;33m:\u001b[0m\u001b[1;33m\u001b[0m\u001b[1;33m\u001b[0m\u001b[0m\n\u001b[1;32m---> 62\u001b[1;33m             \u001b[0mself\u001b[0m\u001b[1;33m.\u001b[0m\u001b[0m_validate_sample\u001b[0m\u001b[1;33m(\u001b[0m\u001b[0mvalue\u001b[0m\u001b[1;33m)\u001b[0m\u001b[1;33m\u001b[0m\u001b[1;33m\u001b[0m\u001b[0m\n\u001b[0m\u001b[0;32m     63\u001b[0m         \u001b[0mheads_tails\u001b[0m \u001b[1;33m=\u001b[0m \u001b[0mtorch\u001b[0m\u001b[1;33m.\u001b[0m\u001b[0mstack\u001b[0m\u001b[1;33m(\u001b[0m\u001b[1;33m[\u001b[0m\u001b[0mvalue\u001b[0m\u001b[1;33m,\u001b[0m \u001b[1;36m1.0\u001b[0m \u001b[1;33m-\u001b[0m \u001b[0mvalue\u001b[0m\u001b[1;33m]\u001b[0m\u001b[1;33m,\u001b[0m \u001b[1;33m-\u001b[0m\u001b[1;36m1\u001b[0m\u001b[1;33m)\u001b[0m\u001b[1;33m\u001b[0m\u001b[1;33m\u001b[0m\u001b[0m\n\u001b[0;32m     64\u001b[0m         \u001b[1;32mreturn\u001b[0m \u001b[0mself\u001b[0m\u001b[1;33m.\u001b[0m\u001b[0m_dirichlet\u001b[0m\u001b[1;33m.\u001b[0m\u001b[0mlog_prob\u001b[0m\u001b[1;33m(\u001b[0m\u001b[0mheads_tails\u001b[0m\u001b[1;33m)\u001b[0m\u001b[1;33m\u001b[0m\u001b[1;33m\u001b[0m\u001b[0m\n",
      "\u001b[1;32m~\\anaconda3\\lib\\site-packages\\torch\\distributions\\distribution.py\u001b[0m in \u001b[0;36m_validate_sample\u001b[1;34m(self, value)\u001b[0m\n\u001b[0;32m    286\u001b[0m         \u001b[0mvalid\u001b[0m \u001b[1;33m=\u001b[0m \u001b[0msupport\u001b[0m\u001b[1;33m.\u001b[0m\u001b[0mcheck\u001b[0m\u001b[1;33m(\u001b[0m\u001b[0mvalue\u001b[0m\u001b[1;33m)\u001b[0m\u001b[1;33m\u001b[0m\u001b[1;33m\u001b[0m\u001b[0m\n\u001b[0;32m    287\u001b[0m         \u001b[1;32mif\u001b[0m \u001b[1;32mnot\u001b[0m \u001b[0mvalid\u001b[0m\u001b[1;33m.\u001b[0m\u001b[0mall\u001b[0m\u001b[1;33m(\u001b[0m\u001b[1;33m)\u001b[0m\u001b[1;33m:\u001b[0m\u001b[1;33m\u001b[0m\u001b[1;33m\u001b[0m\u001b[0m\n\u001b[1;32m--> 288\u001b[1;33m             raise ValueError(\n\u001b[0m\u001b[0;32m    289\u001b[0m                 \u001b[1;34m\"Expected value argument \"\u001b[0m\u001b[1;33m\u001b[0m\u001b[1;33m\u001b[0m\u001b[0m\n\u001b[0;32m    290\u001b[0m                 \u001b[1;34mf\"({type(value).__name__} of shape {tuple(value.shape)}) \"\u001b[0m\u001b[1;33m\u001b[0m\u001b[1;33m\u001b[0m\u001b[0m\n",
      "\u001b[1;31mValueError\u001b[0m: Expected value argument (Tensor of shape ()) to be within the support (Interval(lower_bound=0.0, upper_bound=1.0)) of the distribution Beta(), but found invalid values:\n-0.009712642058730125"
     ]
    }
   ],
   "source": [
    "from multilevel_cutpoint_model import CutpointModel\n",
    "\n",
    "m = CutpointModel(X_train, t_train, s_train, sigmoid_temperature = 0.01, depth = 0, iterations = 250, prior_strength = 0.0)\n",
    "m.train()"
   ]
  },
  {
   "cell_type": "code",
   "execution_count": null,
   "metadata": {},
   "outputs": [],
   "source": [
    "m.plot_result(t_train[s_train==1], t_train[s_train==0])"
   ]
  },
  {
   "cell_type": "code",
   "execution_count": null,
   "metadata": {},
   "outputs": [],
   "source": [
    "def discrete_ci(cutpoints, model, X_test_in, t_test_in, s_test_in, t_train_in):\n",
    "    s_test = torch.from_numpy(s_test_in).float()\n",
    "    X_test = torch.from_numpy(X_test_in).float()\n",
    "    t_test = torch.from_numpy(t_test_in).float()\n",
    "    t_train = torch.from_numpy(t_train_in).float()\n",
    "\n",
    "    # predicted bucket probabilities for test data\n",
    "\n",
    "    # move pred to it's own class function, call it outside of this and just pass in the predictions\n",
    "    pred = model(X_test).detach().numpy()    \n",
    "    \n",
    "    # cdfs\n",
    "    t_pred_cdf = np.cumsum(pred, axis=1) \n",
    "\n",
    "    bucket_boundaries = [0] + sorted([i.item() for i in cutpoints]) + [1]\n",
    "    # rescale\n",
    "    bucket_boundaries = [boundary_i * (max(t_train) - min(t_train)) + min(t_train) \n",
    "                             for boundary_i in bucket_boundaries]\n",
    "    \n",
    "    N = len(pred)\n",
    "    n_buckets = len(bucket_boundaries) - 1\n",
    "\n",
    "    # one hot vector for where the 1 is in the most likely bucket\n",
    "    t_true_idx = np.zeros((N, n_buckets),dtype=int)\n",
    "    for ii in range(N):\n",
    "        for jj in range(n_buckets):\n",
    "            if t_test[ii] < bucket_boundaries[jj+1]:\n",
    "                t_true_idx[ii][jj] = 1\n",
    "                break\n",
    "           \n",
    "    print(bucket_boundaries[0:10])\n",
    "    print(t_test[0:10])\n",
    "    print(t_true_idx[0:10])\n",
    "    \n",
    "    t_true_idx = np.argmax(t_true_idx, axis=1)\n",
    "    concordant = 0\n",
    "    total = 0\n",
    "\n",
    "\n",
    "    idx = np.arange(N)\n",
    "\n",
    "    \n",
    "    \n",
    "    for i in range(N):\n",
    "\n",
    "        if s_test[i] == 0:\n",
    "            continue\n",
    "\n",
    "        # time bucket of observation for i, then for all but i\n",
    "        tti_idx = t_true_idx[i]\n",
    "        \n",
    "        tt_idx = t_true_idx[idx != i]\n",
    "\n",
    "        # calculate predicted risk for i at the time of their event\n",
    "        tpi = t_pred_cdf[i, tti_idx]\n",
    "\n",
    "\n",
    "        # predicted risk at that time for all but i\n",
    "        tp = t_pred_cdf[idx != tti_idx, tti_idx]\n",
    "\n",
    "        \n",
    "        total += np.sum(tti_idx < tt_idx) # observed in i first\n",
    "\n",
    "        concordant += np.sum((tti_idx < tt_idx) * (tpi > tp)) # and i predicted as higher risk\n",
    "\n",
    "    return concordant / total\n"
   ]
  },
  {
   "cell_type": "code",
   "execution_count": null,
   "metadata": {},
   "outputs": [],
   "source": [
    "discrete_ci(m.cutpoints, m.layers[-1], X_test, t_test, s_test, t_train)"
   ]
  },
  {
   "cell_type": "code",
   "execution_count": null,
   "metadata": {},
   "outputs": [],
   "source": [
    "discrete_ci(m.cutpoint0, m.layers[-1], X_test, t_test, s_test, t_train)"
   ]
  },
  {
   "cell_type": "code",
   "execution_count": null,
   "metadata": {},
   "outputs": [],
   "source": [
    "discrete_ci(torch.tensor([0.5]), m.layers[-1], X_test, t_test, s_test, t_train)"
   ]
  },
  {
   "cell_type": "markdown",
   "metadata": {},
   "source": [
    "## Tri-modal"
   ]
  },
  {
   "cell_type": "code",
   "execution_count": null,
   "metadata": {},
   "outputs": [],
   "source": [
    "# shifted and scaled sigmoid function\n",
    "def test_sigmoid(x, a=0, b=1.):\n",
    "    return 1 / (1 + (np.exp(-1 * (x - a) / b)))\n",
    "\n",
    "N = 10000\n",
    "P = 5\n",
    "\n",
    "rs = np.random.RandomState(1978)\n",
    "\n",
    "X = rs.randn(N, P)\n",
    "w = rs.randn(P)\n",
    "\n",
    "y_prob = test_sigmoid(X @ w)\n",
    "y = (rs.rand(N) < y_prob).astype(int)\n",
    "t = (rs.randn(N) + 5 * y + (rs.rand(N)> 0.5) * 5 * y )\n",
    "\n",
    "# make times positive\n",
    "t += abs(min(t))\n",
    "\n",
    "plt.hist(t[y==0], bins=50, alpha = 0.5, color = \"blue\", label=\"False\")\n",
    "plt.hist(t[y==1], bins=50, alpha = 0.5, color = \"red\", label=\"True\")\n",
    "plt.legend()\n",
    "plt.show()"
   ]
  },
  {
   "cell_type": "code",
   "execution_count": null,
   "metadata": {
    "scrolled": true
   },
   "outputs": [],
   "source": [
    "m = CutpointModel(X, t, y, X, t, y, depth = 1, iterations = 500)"
   ]
  },
  {
   "cell_type": "code",
   "execution_count": null,
   "metadata": {},
   "outputs": [],
   "source": [
    "for name, param in m.named_parameters():\n",
    "    if param.requires_grad:\n",
    "        print(name, param.data)"
   ]
  },
  {
   "cell_type": "code",
   "execution_count": null,
   "metadata": {
    "scrolled": true
   },
   "outputs": [],
   "source": [
    "m.train()"
   ]
  },
  {
   "cell_type": "code",
   "execution_count": null,
   "metadata": {},
   "outputs": [],
   "source": [
    "m.cutpoint0"
   ]
  },
  {
   "cell_type": "code",
   "execution_count": null,
   "metadata": {},
   "outputs": [],
   "source": [
    "for name, param in m.named_parameters():\n",
    "    if param.requires_grad:\n",
    "        print(name, param.data)"
   ]
  },
  {
   "cell_type": "code",
   "execution_count": null,
   "metadata": {},
   "outputs": [],
   "source": [
    "m.plot_result(t[y==1], t[y==0])"
   ]
  },
  {
   "cell_type": "code",
   "execution_count": null,
   "metadata": {},
   "outputs": [],
   "source": [
    "discrete_ci(m.cutpoints, m.layers[-1], X, t, y, t)"
   ]
  },
  {
   "cell_type": "code",
   "execution_count": null,
   "metadata": {},
   "outputs": [],
   "source": [
    "discrete_ci(m.cutpoint0, m.layers[-1], X, t, y, t)"
   ]
  },
  {
   "cell_type": "code",
   "execution_count": null,
   "metadata": {},
   "outputs": [],
   "source": [
    "discrete_ci(torch.tensor([0.9, 0.99, 0.999]), m.layers[-1], X, t, y, t)"
   ]
  },
  {
   "cell_type": "markdown",
   "metadata": {},
   "source": [
    "## more modes"
   ]
  },
  {
   "cell_type": "code",
   "execution_count": null,
   "metadata": {},
   "outputs": [],
   "source": [
    "N = 1000\n",
    "P = 5\n",
    "\n",
    "rs = np.random.RandomState(1978)\n",
    "# python please I want a do while loop\n",
    "\n",
    "X = rs.randn(N, P)\n",
    "w = rs.randn(P)\n",
    "\n",
    "y_prob = test_sigmoid(X @ w)\n",
    "y = (rs.rand(N) < y_prob).astype(int)\n",
    "t = (rs.randn(N) + 5 * y )\n",
    "\n",
    "\n",
    "for i in range(0, 3):\n",
    "    X_i = rs.randn(N, P)\n",
    "    w_i = rs.randn(P)\n",
    "\n",
    "    y_prob = test_sigmoid(X_i @ w_i)\n",
    "    y_i = (rs.rand(N) < y_prob).astype(int)\n",
    "    t_i = (rs.randn(N) + 20 * i + 5 * y_i )\n",
    "    X = np.concatenate((X, X_i))\n",
    "    t = np.concatenate((t, t_i))\n",
    "    y = np.concatenate((y, y_i))\n",
    "    \n",
    "\n",
    "# make times positive\n",
    "t += abs(min(t))\n",
    "\n",
    "plt.hist(t[y==0], bins=50, alpha = 0.5, color = \"blue\", label=\"False\")\n",
    "plt.hist(t[y==1], bins=50, alpha = 0.5, color = \"red\", label=\"True\")\n",
    "plt.legend()\n",
    "plt.show()"
   ]
  },
  {
   "cell_type": "code",
   "execution_count": null,
   "metadata": {},
   "outputs": [],
   "source": [
    "m = Model(X, t, depth = 2, iterations = 1000)\n",
    "m.train()\n",
    "m.plot_result(t[y==1], t[y==0])"
   ]
  },
  {
   "cell_type": "markdown",
   "metadata": {},
   "source": [
    "# Sksurv data"
   ]
  },
  {
   "cell_type": "markdown",
   "metadata": {},
   "source": [
    "## Breast Cancer"
   ]
  },
  {
   "cell_type": "code",
   "execution_count": null,
   "metadata": {},
   "outputs": [],
   "source": [
    "from sksurv.datasets import load_breast_cancer\n",
    "\n",
    "data_x, data_y = load_breast_cancer()\n",
    "y_df = pd.DataFrame.from_records(data_y)\n",
    "\n",
    "# cut last covariates that are strings\n",
    "X = torch.tensor(data_x.iloc[:, 1:-3].values)\n",
    "\n",
    "t = torch.from_numpy(y_df[\"t.tdm\"].values)\n",
    "\n",
    "\n",
    "plt.hist(y_df[~y_df[\"e.tdm\"]][\"t.tdm\"], bins = 20, alpha=0.5, color=\"blue\", label=\"no metastases\")\n",
    "plt.hist(y_df[y_df[\"e.tdm\"]][\"t.tdm\"], bins = 20, alpha=0.5, color=\"red\", label=\"metastases\")\n",
    "plt.legend()\n",
    "\n",
    "plt.show()"
   ]
  },
  {
   "cell_type": "code",
   "execution_count": null,
   "metadata": {
    "scrolled": true
   },
   "outputs": [],
   "source": [
    "m = Model(X, t, depth = 1, iterations=1000)\n",
    "m.train()\n",
    "m.plot_result(y_df[y_df[\"e.tdm\"]][\"t.tdm\"], \n",
    "              y_df[~y_df[\"e.tdm\"]][\"t.tdm\"],\n",
    "             title=\"Breast Cancer Survival Distribution\",\n",
    "             label_true=\"metastases\",\n",
    "             label_false=\"no metastases\")"
   ]
  },
  {
   "cell_type": "markdown",
   "metadata": {},
   "source": [
    "### Worcester Heart Attack Study\n",
    "\n",
    "The dataset has 500 samples and 14 features. The endpoint is death, which occurred for 215 patients (43.0%)."
   ]
  },
  {
   "cell_type": "code",
   "execution_count": null,
   "metadata": {},
   "outputs": [],
   "source": [
    "from sksurv.datasets import load_whas500\n",
    "\n",
    "data_x, data_y = load_whas500()\n",
    "y_df = pd.DataFrame.from_records(data_y)\n",
    "\n",
    "\n",
    "X = torch.tensor(data_x[[\"age\", \"bmi\", \"diasbp\", \"hr\", \"los\", \"sysbp\"]].values)\n",
    "\n",
    "t = torch.from_numpy(y_df[\"lenfol\"].values)\n",
    "plt.title(\"Worcester Heart Attack Study Followup Distribution\")\n",
    "plt.hist(t[~y_df[\"fstat\"].values], color=\"blue\", alpha = 0.5, label=\"Survived\")\n",
    "plt.hist(t[y_df[\"fstat\"].values], color=\"red\", alpha = 0.5, label = \"Died\")\n",
    "plt.legend()\n",
    "plt.show()"
   ]
  },
  {
   "cell_type": "code",
   "execution_count": null,
   "metadata": {
    "scrolled": true
   },
   "outputs": [],
   "source": [
    "m = Model(X, t, depth = 2, iterations=1000)\n",
    "m.train()\n",
    "m.plot_result(t[y_df[\"fstat\"].values], \n",
    "             t[~y_df[\"fstat\"].values],\n",
    "             title=\"Worcester Heart Attack Study Followup Distribution\",\n",
    "             label_true=\"Died\",\n",
    "             label_false=\"Survived\")"
   ]
  },
  {
   "cell_type": "markdown",
   "metadata": {},
   "source": [
    "# NACD Data"
   ]
  },
  {
   "cell_type": "code",
   "execution_count": null,
   "metadata": {},
   "outputs": [],
   "source": [
    "df= pd.read_csv('http://pssp.srv.ualberta.ca/system/predictors/datasets/000/000/032/original/All_Data_updated_may2011_CLEANED.csv?1350302245')\n",
    "t = df[\"SURVIVAL\"]\n",
    "# make times positive\n",
    "t += abs(min(t))\n",
    "\n",
    "# censored: 1 is that they were censored 0 they experienced the event\n",
    "y = 1 - df[\"CENSORED\"]\n",
    "\n",
    "numrc_cols = df.nunique() > 2\n",
    "df.loc[:, numrc_cols] = (df.loc[:, numrc_cols] - df.loc[:, numrc_cols].mean()) / df.loc[:, numrc_cols].std()\n",
    "\n",
    "OUTCOMES = ['SURVIVAL', 'CENSORED']\n",
    "X = df.drop(OUTCOMES, axis=1).sample(frac=1, random_state=2021)\n",
    "X = X.values\n",
    "\n",
    "print('There are', X.shape[1], 'features')\n",
    "print(f\"There are {X.shape[0]} patients\")\n",
    "\n",
    "plt.hist(t[y==0], bins=50, alpha = 0.5, color = \"blue\", label=\"censored\")\n",
    "plt.hist(t[y==1], bins=50, alpha = 0.5, color = \"red\", label=\"endpoint\")\n",
    "plt.legend()\n",
    "plt.show()"
   ]
  },
  {
   "cell_type": "code",
   "execution_count": null,
   "metadata": {},
   "outputs": [],
   "source": [
    "m = Model(X, t, depth = 2, iterations = 1000)\n",
    "m.train()\n",
    "m.plot_result(t[y==1],\n",
    "              t[y==0],\n",
    "              title=\"NACD Survival Distribution\",\n",
    "              label_true = \"endpoint\",\n",
    "              label_false = \"censored\"\n",
    "             )"
   ]
  },
  {
   "cell_type": "markdown",
   "metadata": {},
   "source": [
    "# Support dataset"
   ]
  },
  {
   "cell_type": "code",
   "execution_count": null,
   "metadata": {},
   "outputs": [],
   "source": [
    "FILL_VALUES = {\n",
    "    'alb': 3.5,\n",
    "    'pafi': 333.3,\n",
    "    'bili': 1.01,\n",
    "    'crea': 1.01,\n",
    "    'bun': 6.51,\n",
    "    'wblc': 9.,\n",
    "    'urine': 2502.\n",
    "}\n",
    "\n",
    "TO_DROP = ['aps', 'sps', 'surv2m', 'surv6m', 'prg2m', 'prg6m', 'dnr', 'dnrday']\n",
    "TO_DROP = TO_DROP + ['sfdm2', 'hospdead']\n",
    "\n",
    "# load, drop columns, fill using specified fill values\n",
    "df = pd.read_csv('datasets/support2.csv').drop(TO_DROP,axis=1).fillna(value=FILL_VALUES)\n",
    "\n",
    "# get dummies for categorical vars\n",
    "df = pd.get_dummies(df, dummy_na=True)\n",
    "\n",
    "# fill remaining values to the median\n",
    "\n",
    "df = df.fillna(df.median())\n",
    "\n",
    "# standardize numeric columns\n",
    "\n",
    "numrc_cols = df.dtypes == 'float64'\n",
    "df.loc[:, numrc_cols] = (df.loc[:, numrc_cols] - df.loc[:, numrc_cols].mean()) / df.loc[:, numrc_cols].std()\n",
    "\n",
    "OUTCOMES = ['death', 'd.time']\n",
    "X = df.drop(OUTCOMES, axis=1).sample(frac=1, random_state=2021)\n",
    "X = X.values\n",
    "\n",
    "t = df[\"d.time\"]\n",
    "y = df['death']\n",
    "\n",
    "print('There are', X.shape[1], 'features')\n",
    "print(f'There are {X.shape[0]} patients')\n",
    "\n",
    "plt.hist(t[y==0], bins=50, alpha = 0.5, color = \"blue\", label=\"censored\")\n",
    "plt.hist(t[y==1], bins=50, alpha = 0.5, color = \"red\", label=\"death\")\n",
    "plt.legend()\n",
    "plt.show()"
   ]
  },
  {
   "cell_type": "code",
   "execution_count": null,
   "metadata": {},
   "outputs": [],
   "source": [
    "m = Model(X, t.values, depth = 2, iterations=1000)\n",
    "m.train()\n",
    "m.plot_result(t[y==1],\n",
    "              t[y==0],\n",
    "              title=\"Support Survival Distribution\",\n",
    "              label_true = \"endpoint\",\n",
    "              label_false = \"censored\"\n",
    "             )"
   ]
  },
  {
   "cell_type": "code",
   "execution_count": null,
   "metadata": {
    "scrolled": false
   },
   "outputs": [],
   "source": [
    "len(m.theta)"
   ]
  },
  {
   "cell_type": "code",
   "execution_count": null,
   "metadata": {},
   "outputs": [],
   "source": [
    "len(m.theta[0])"
   ]
  },
  {
   "cell_type": "code",
   "execution_count": null,
   "metadata": {
    "scrolled": true
   },
   "outputs": [],
   "source": [
    "len(m.theta[1])"
   ]
  },
  {
   "cell_type": "code",
   "execution_count": null,
   "metadata": {
    "scrolled": true
   },
   "outputs": [],
   "source": [
    "len(m.theta[2])"
   ]
  },
  {
   "cell_type": "code",
   "execution_count": null,
   "metadata": {},
   "outputs": [],
   "source": []
  }
 ],
 "metadata": {
  "kernelspec": {
   "display_name": "Python 3",
   "language": "python",
   "name": "python3"
  },
  "language_info": {
   "codemirror_mode": {
    "name": "ipython",
    "version": 3
   },
   "file_extension": ".py",
   "mimetype": "text/x-python",
   "name": "python",
   "nbconvert_exporter": "python",
   "pygments_lexer": "ipython3",
   "version": "3.8.3"
  }
 },
 "nbformat": 4,
 "nbformat_minor": 4
}
