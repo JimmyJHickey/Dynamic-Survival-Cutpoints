{
 "cells": [
  {
   "cell_type": "code",
   "execution_count": 2,
   "metadata": {
    "collapsed": true
   },
   "outputs": [
    {
     "name": "stdout",
     "output_type": "stream",
     "text": [
      "Requirement already satisfied: scikit-survival in c:\\users\\jimmy\\anaconda3\\lib\\site-packages (0.14.0)\n",
      "Requirement already satisfied: numpy in c:\\users\\jimmy\\anaconda3\\lib\\site-packages (from scikit-survival) (1.19.5)\n",
      "Requirement already satisfied: joblib in c:\\users\\jimmy\\anaconda3\\lib\\site-packages (from scikit-survival) (0.16.0)\n",
      "Requirement already satisfied: cvxpy>=1.0 in c:\\users\\jimmy\\anaconda3\\lib\\site-packages (from scikit-survival) (1.1.10)\n",
      "Requirement already satisfied: numexpr in c:\\users\\jimmy\\anaconda3\\lib\\site-packages (from scikit-survival) (2.7.1)\n",
      "Requirement already satisfied: scipy!=1.3.0,>=1.0 in c:\\users\\jimmy\\anaconda3\\lib\\site-packages (from scikit-survival) (1.5.0)\n",
      "Requirement already satisfied: cvxopt in c:\\users\\jimmy\\anaconda3\\lib\\site-packages (from scikit-survival) (1.2.6)\n",
      "Requirement already satisfied: scikit-learn<0.24,>=0.22.0 in c:\\users\\jimmy\\anaconda3\\lib\\site-packages (from scikit-survival) (0.22)\n",
      "Requirement already satisfied: osqp!=0.6.0,!=0.6.1 in c:\\users\\jimmy\\anaconda3\\lib\\site-packages (from scikit-survival) (0.6.2.post0)\n",
      "Requirement already satisfied: pandas>=0.21 in c:\\users\\jimmy\\anaconda3\\lib\\site-packages (from scikit-survival) (1.0.5)\n",
      "Requirement already satisfied: scs>=1.1.6 in c:\\users\\jimmy\\anaconda3\\lib\\site-packages (from cvxpy>=1.0->scikit-survival) (2.1.2)\n",
      "Requirement already satisfied: ecos>=2 in c:\\users\\jimmy\\anaconda3\\lib\\site-packages (from cvxpy>=1.0->scikit-survival) (2.0.7.post1)\n",
      "Requirement already satisfied: qdldl in c:\\users\\jimmy\\anaconda3\\lib\\site-packages (from osqp!=0.6.0,!=0.6.1->scikit-survival) (0.1.5.post0)\n",
      "Requirement already satisfied: pytz>=2017.2 in c:\\users\\jimmy\\anaconda3\\lib\\site-packages (from pandas>=0.21->scikit-survival) (2020.1)\n",
      "Requirement already satisfied: python-dateutil>=2.6.1 in c:\\users\\jimmy\\anaconda3\\lib\\site-packages (from pandas>=0.21->scikit-survival) (2.8.1)\n",
      "Requirement already satisfied: six>=1.5 in c:\\users\\jimmy\\anaconda3\\lib\\site-packages (from python-dateutil>=2.6.1->pandas>=0.21->scikit-survival) (1.15.0)\n",
      "Requirement already satisfied: matplotlib in c:\\users\\jimmy\\anaconda3\\lib\\site-packages (3.2.2)\n",
      "Requirement already satisfied: numpy>=1.11 in c:\\users\\jimmy\\anaconda3\\lib\\site-packages (from matplotlib) (1.19.5)\n",
      "Requirement already satisfied: pyparsing!=2.0.4,!=2.1.2,!=2.1.6,>=2.0.1 in c:\\users\\jimmy\\anaconda3\\lib\\site-packages (from matplotlib) (2.4.7)\n",
      "Requirement already satisfied: python-dateutil>=2.1 in c:\\users\\jimmy\\anaconda3\\lib\\site-packages (from matplotlib) (2.8.1)\n",
      "Requirement already satisfied: kiwisolver>=1.0.1 in c:\\users\\jimmy\\anaconda3\\lib\\site-packages (from matplotlib) (1.2.0)\n",
      "Requirement already satisfied: cycler>=0.10 in c:\\users\\jimmy\\anaconda3\\lib\\site-packages (from matplotlib) (0.10.0)\n",
      "Requirement already satisfied: six>=1.5 in c:\\users\\jimmy\\anaconda3\\lib\\site-packages (from python-dateutil>=2.1->matplotlib) (1.15.0)\n",
      "^C\n"
     ]
    }
   ],
   "source": [
    "import sys\n",
    "# !{sys.executable} -m pip install --upgrade sklearn==0.22.0\n",
    "# !{sys.executable} -m pip install scikit-survival\n",
    "!{sys.executable} -m pip install scikit-survival\n",
    "\n",
    "!{sys.executable} -m pip install matplotlib\n",
    "\n",
    "!{sys.executable} -m conda install -c sebp scikit-survival"
   ]
  },
  {
   "cell_type": "code",
   "execution_count": 1,
   "metadata": {},
   "outputs": [],
   "source": [
    "import sksurv\n",
    "import pandas as pd\n",
    "import matplotlib.pyplot as plt\n"
   ]
  },
  {
   "cell_type": "code",
   "execution_count": 105,
   "metadata": {},
   "outputs": [],
   "source": [
    "# https://scikit-survival.readthedocs.io/en/stable/api/datasets.html"
   ]
  },
  {
   "cell_type": "markdown",
   "metadata": {},
   "source": [
    "# AIDS Clinical Trial"
   ]
  },
  {
   "cell_type": "code",
   "execution_count": 11,
   "metadata": {},
   "outputs": [
    {
     "data": {
      "image/png": "[encoded data removed]",
      "text/plain": [
       "<Figure size 1008x504 with 2 Axes>"
      ]
     },
     "metadata": {
      "needs_background": "light"
     },
     "output_type": "display_data"
    }
   ],
   "source": [
    "from sksurv.datasets import load_aids\n",
    "\n",
    "data_x, data_y = load_aids()\n",
    "y_df = pd.DataFrame.from_records(data_y)\n",
    "\n",
    "histo, ax = plt.subplots(ncols=2, figsize=(14, 7))\n",
    "histo.suptitle(\"AIDS Clinical Trial Followup Distribution\")\n",
    "\n",
    "histo = ax[0].hist(y_df[~y_df[\"censor\"]][\"time\"], bins = 20)\n",
    "# plt.show()\n",
    "\n",
    "histo = ax[1].hist(y_df[y_df[\"censor\"]][\"time\"], bins = 20)\n",
    "plt.show()"
   ]
  },
  {
   "cell_type": "code",
   "execution_count": 3,
   "metadata": {},
   "outputs": [
    {
     "name": "stdout",
     "output_type": "stream",
     "text": [
      "number of nonzero followup times:\t\t 1151\n",
      "proportion of endpoint reached/right censored:\t 0.08340573414422242\n",
      "number of covariates:\t\t\t\t 11\n"
     ]
    }
   ],
   "source": [
    "print(\"number of nonzero followup times:\\t\\t\", len(y_df[y_df[\"time\"]>0][\"time\"]))\n",
    "print(\"proportion of endpoint reached/right censored:\\t\", len(y_df[y_df[\"censor\"]][\"censor\"])/len(y_df) )\n",
    "print(\"number of covariates:\\t\\t\\t\\t\", len(data_x.columns))"
   ]
  },
  {
   "cell_type": "markdown",
   "metadata": {},
   "source": [
    "# Breast Cancer"
   ]
  },
  {
   "cell_type": "code",
   "execution_count": 23,
   "metadata": {},
   "outputs": [
    {
     "data": {
      "image/png": "[encoded data removed]",
      "text/plain": [
       "<Figure size 1008x504 with 2 Axes>"
      ]
     },
     "metadata": {
      "needs_background": "light"
     },
     "output_type": "display_data"
    }
   ],
   "source": [
    "from sksurv.datasets import load_breast_cancer\n",
    "\n",
    "data_x, data_y = load_breast_cancer()\n",
    "y_df = pd.DataFrame.from_records(data_y)\n",
    "\n",
    "\n",
    "histo, ax = plt.subplots(ncols=2, figsize=(14, 7))\n",
    "\n",
    "histo.suptitle(\"Breast Cancer Time to Metastasis Distribution\")\n",
    "\n",
    "histo = ax[0].hist(y_df[~y_df[\"e.tdm\"]][\"t.tdm\"], bins = 20)\n",
    "histo = ax[1].hist(y_df[y_df[\"e.tdm\"]][\"t.tdm\"], bins = 35)\n",
    "\n",
    "plt.show()"
   ]
  },
  {
   "cell_type": "code",
   "execution_count": 5,
   "metadata": {
    "scrolled": true
   },
   "outputs": [
    {
     "name": "stdout",
     "output_type": "stream",
     "text": [
      "number of nonzero followup times:\t\t 198\n",
      "proportion of endpoint reached/right censored:\t 0.25757575757575757\n",
      "number of covariates:\t\t\t\t 80\n"
     ]
    }
   ],
   "source": [
    "print(\"number of nonzero followup times:\\t\\t\", len(y_df[y_df[\"t.tdm\"]>0][\"t.tdm\"]))\n",
    "print(\"proportion of endpoint reached/right censored:\\t\", len(y_df[y_df[\"e.tdm\"]][\"e.tdm\"])/len(y_df) )\n",
    "print(\"number of covariates:\\t\\t\\t\\t\", len(data_x.columns))"
   ]
  },
  {
   "cell_type": "markdown",
   "metadata": {},
   "source": [
    "# Serum Free Light Chain"
   ]
  },
  {
   "cell_type": "code",
   "execution_count": 3,
   "metadata": {
    "scrolled": false
   },
   "outputs": [
    {
     "data": {
      "image/png": "[encoded data removed]",
      "text/plain": [
       "<Figure size 1008x504 with 2 Axes>"
      ]
     },
     "metadata": {
      "needs_background": "light"
     },
     "output_type": "display_data"
    }
   ],
   "source": [
    "from sksurv.datasets import load_flchain\n",
    "\n",
    "data_x, data_y = load_flchain()\n",
    "y_df = pd.DataFrame.from_records(data_y)\n",
    "\n",
    "\n",
    "\n",
    "histo, ax = plt.subplots(ncols=2, figsize=(14, 7))\n",
    "\n",
    "histo.suptitle(\"Serum Free Light Chain Followup Distribution\")\n",
    "\n",
    "histo = ax[0].hist(y_df[~y_df[\"death\"]][\"futime\"], bins = 20)\n",
    "histo = ax[1].hist(y_df[y_df[\"death\"]][\"futime\"], bins = 35)"
   ]
  },
  {
   "cell_type": "code",
   "execution_count": 4,
   "metadata": {},
   "outputs": [
    {
     "name": "stdout",
     "output_type": "stream",
     "text": [
      "number of nonzero followup times:\t\t 7871\n",
      "proportion of endpoint reached/right censored:\t 0.27546355092710184\n",
      "number of covariates:\t\t\t\t 9\n"
     ]
    }
   ],
   "source": [
    "print(\"number of nonzero followup times:\\t\\t\", len(y_df[y_df[\"futime\"]>0][\"futime\"]))\n",
    "print(\"proportion of endpoint reached/right censored:\\t\", len(y_df[y_df[\"death\"]][\"death\"])/len(y_df) )\n",
    "print(\"number of covariates:\\t\\t\\t\\t\", len(data_x.columns))"
   ]
  },
  {
   "cell_type": "code",
   "execution_count": 8,
   "metadata": {},
   "outputs": [
    {
     "data": {
      "text/html": [
       "<div>\n",
       "<style scoped>\n",
       "    .dataframe tbody tr th:only-of-type {\n",
       "        vertical-align: middle;\n",
       "    }\n",
       "\n",
       "    .dataframe tbody tr th {\n",
       "        vertical-align: top;\n",
       "    }\n",
       "\n",
       "    .dataframe thead th {\n",
       "        text-align: right;\n",
       "    }\n",
       "</style>\n",
       "<table border=\"1\" class=\"dataframe\">\n",
       "  <thead>\n",
       "    <tr style=\"text-align: right;\">\n",
       "      <th></th>\n",
       "      <th>death</th>\n",
       "      <th>futime</th>\n",
       "    </tr>\n",
       "  </thead>\n",
       "  <tbody>\n",
       "    <tr>\n",
       "      <th>23</th>\n",
       "      <td>False</td>\n",
       "      <td>2845.0</td>\n",
       "    </tr>\n",
       "    <tr>\n",
       "      <th>29</th>\n",
       "      <td>False</td>\n",
       "      <td>2498.0</td>\n",
       "    </tr>\n",
       "    <tr>\n",
       "      <th>31</th>\n",
       "      <td>False</td>\n",
       "      <td>2905.0</td>\n",
       "    </tr>\n",
       "    <tr>\n",
       "      <th>77</th>\n",
       "      <td>False</td>\n",
       "      <td>315.0</td>\n",
       "    </tr>\n",
       "    <tr>\n",
       "      <th>80</th>\n",
       "      <td>False</td>\n",
       "      <td>166.0</td>\n",
       "    </tr>\n",
       "    <tr>\n",
       "      <th>...</th>\n",
       "      <td>...</td>\n",
       "      <td>...</td>\n",
       "    </tr>\n",
       "    <tr>\n",
       "      <th>7869</th>\n",
       "      <td>False</td>\n",
       "      <td>4997.0</td>\n",
       "    </tr>\n",
       "    <tr>\n",
       "      <th>7870</th>\n",
       "      <td>False</td>\n",
       "      <td>3652.0</td>\n",
       "    </tr>\n",
       "    <tr>\n",
       "      <th>7871</th>\n",
       "      <td>False</td>\n",
       "      <td>2507.0</td>\n",
       "    </tr>\n",
       "    <tr>\n",
       "      <th>7872</th>\n",
       "      <td>False</td>\n",
       "      <td>4982.0</td>\n",
       "    </tr>\n",
       "    <tr>\n",
       "      <th>7873</th>\n",
       "      <td>False</td>\n",
       "      <td>3995.0</td>\n",
       "    </tr>\n",
       "  </tbody>\n",
       "</table>\n",
       "<p>5705 rows × 2 columns</p>\n",
       "</div>"
      ],
      "text/plain": [
       "      death  futime\n",
       "23    False  2845.0\n",
       "29    False  2498.0\n",
       "31    False  2905.0\n",
       "77    False   315.0\n",
       "80    False   166.0\n",
       "...     ...     ...\n",
       "7869  False  4997.0\n",
       "7870  False  3652.0\n",
       "7871  False  2507.0\n",
       "7872  False  4982.0\n",
       "7873  False  3995.0\n",
       "\n",
       "[5705 rows x 2 columns]"
      ]
     },
     "execution_count": 8,
     "metadata": {},
     "output_type": "execute_result"
    }
   ],
   "source": [
    "y_df[~y_df[\"death\"]]"
   ]
  },
  {
   "cell_type": "markdown",
   "metadata": {},
   "source": [
    "# German Breast Cancer Study Group 2"
   ]
  },
  {
   "cell_type": "code",
   "execution_count": 10,
   "metadata": {},
   "outputs": [
    {
     "data": {
      "image/png": "[encoded data removed]",
      "text/plain": [
       "<Figure size 1008x504 with 2 Axes>"
      ]
     },
     "metadata": {
      "needs_background": "light"
     },
     "output_type": "display_data"
    }
   ],
   "source": [
    "from sksurv.datasets import load_gbsg2\n",
    "\n",
    "data_x, data_y = load_gbsg2()\n",
    "y_df = pd.DataFrame.from_records(data_y)\n",
    "\n",
    "\n",
    "histo, ax = plt.subplots(ncols=2, figsize=(14, 7))\n",
    "\n",
    "histo.suptitle(\"German Breast Cancer Followup Distribution\")\n",
    "\n",
    "histo = ax[0].hist(y_df[~y_df[\"cens\"]][\"time\"], bins = 20)\n",
    "histo = ax[1].hist(y_df[y_df[\"cens\"]][\"time\"], bins = 35)"
   ]
  },
  {
   "cell_type": "code",
   "execution_count": 11,
   "metadata": {},
   "outputs": [
    {
     "name": "stdout",
     "output_type": "stream",
     "text": [
      "number of nonzero followup times:\t\t 686\n",
      "proportion of endpoint reached/right censored:\t 0.4358600583090379\n",
      "number of covariates:\t\t\t\t 8\n"
     ]
    }
   ],
   "source": [
    "print(\"number of nonzero followup times:\\t\\t\", len(y_df[y_df[\"time\"]>0][\"time\"]))\n",
    "print(\"proportion of endpoint reached/right censored:\\t\", len(y_df[y_df[\"cens\"]][\"cens\"])/len(y_df) )\n",
    "print(\"number of covariates:\\t\\t\\t\\t\", len(data_x.columns))"
   ]
  },
  {
   "cell_type": "code",
   "execution_count": 13,
   "metadata": {},
   "outputs": [
    {
     "data": {
      "text/html": [
       "<div>\n",
       "<style scoped>\n",
       "    .dataframe tbody tr th:only-of-type {\n",
       "        vertical-align: middle;\n",
       "    }\n",
       "\n",
       "    .dataframe tbody tr th {\n",
       "        vertical-align: top;\n",
       "    }\n",
       "\n",
       "    .dataframe thead th {\n",
       "        text-align: right;\n",
       "    }\n",
       "</style>\n",
       "<table border=\"1\" class=\"dataframe\">\n",
       "  <thead>\n",
       "    <tr style=\"text-align: right;\">\n",
       "      <th></th>\n",
       "      <th>cens</th>\n",
       "      <th>time</th>\n",
       "    </tr>\n",
       "  </thead>\n",
       "  <tbody>\n",
       "    <tr>\n",
       "      <th>0</th>\n",
       "      <td>True</td>\n",
       "      <td>1814.0</td>\n",
       "    </tr>\n",
       "    <tr>\n",
       "      <th>1</th>\n",
       "      <td>True</td>\n",
       "      <td>2018.0</td>\n",
       "    </tr>\n",
       "    <tr>\n",
       "      <th>2</th>\n",
       "      <td>True</td>\n",
       "      <td>712.0</td>\n",
       "    </tr>\n",
       "    <tr>\n",
       "      <th>3</th>\n",
       "      <td>True</td>\n",
       "      <td>1807.0</td>\n",
       "    </tr>\n",
       "    <tr>\n",
       "      <th>4</th>\n",
       "      <td>True</td>\n",
       "      <td>772.0</td>\n",
       "    </tr>\n",
       "    <tr>\n",
       "      <th>...</th>\n",
       "      <td>...</td>\n",
       "      <td>...</td>\n",
       "    </tr>\n",
       "    <tr>\n",
       "      <th>679</th>\n",
       "      <td>True</td>\n",
       "      <td>866.0</td>\n",
       "    </tr>\n",
       "    <tr>\n",
       "      <th>680</th>\n",
       "      <td>True</td>\n",
       "      <td>504.0</td>\n",
       "    </tr>\n",
       "    <tr>\n",
       "      <th>683</th>\n",
       "      <td>True</td>\n",
       "      <td>769.0</td>\n",
       "    </tr>\n",
       "    <tr>\n",
       "      <th>684</th>\n",
       "      <td>True</td>\n",
       "      <td>727.0</td>\n",
       "    </tr>\n",
       "    <tr>\n",
       "      <th>685</th>\n",
       "      <td>True</td>\n",
       "      <td>1701.0</td>\n",
       "    </tr>\n",
       "  </tbody>\n",
       "</table>\n",
       "<p>299 rows × 2 columns</p>\n",
       "</div>"
      ],
      "text/plain": [
       "     cens    time\n",
       "0    True  1814.0\n",
       "1    True  2018.0\n",
       "2    True   712.0\n",
       "3    True  1807.0\n",
       "4    True   772.0\n",
       "..    ...     ...\n",
       "679  True   866.0\n",
       "680  True   504.0\n",
       "683  True   769.0\n",
       "684  True   727.0\n",
       "685  True  1701.0\n",
       "\n",
       "[299 rows x 2 columns]"
      ]
     },
     "execution_count": 13,
     "metadata": {},
     "output_type": "execute_result"
    }
   ],
   "source": [
    "y_df[y_df[\"cens\"]]"
   ]
  },
  {
   "cell_type": "markdown",
   "metadata": {},
   "source": [
    "# Worcester Heart Attack Study"
   ]
  },
  {
   "cell_type": "code",
   "execution_count": 20,
   "metadata": {},
   "outputs": [
    {
     "data": {
      "image/png": "[encoded data removed]",
      "text/plain": [
       "<Figure size 1008x504 with 2 Axes>"
      ]
     },
     "metadata": {
      "needs_background": "light"
     },
     "output_type": "display_data"
    }
   ],
   "source": [
    "from sksurv.datasets import load_whas500\n",
    "\n",
    "data_x, data_y = load_whas500()\n",
    "y_df = pd.DataFrame.from_records(data_y)\n",
    "\n",
    "\n",
    "histo, ax = plt.subplots(ncols=2, figsize=(14, 7))\n",
    "\n",
    "histo.suptitle(\"Worcester Heart Attack Study Followup Distribution\")\n",
    "\n",
    "histo = ax[0].hist(y_df[~y_df[\"fstat\"]][\"lenfol\"], bins = 20)\n",
    "histo = ax[1].hist(y_df[y_df[\"fstat\"]][\"lenfol\"], bins = 35)"
   ]
  },
  {
   "cell_type": "code",
   "execution_count": 11,
   "metadata": {},
   "outputs": [
    {
     "name": "stdout",
     "output_type": "stream",
     "text": [
      "number of nonzero followup times:\t\t 500\n",
      "proportion of endpoint reached/right censored:\t 0.43\n",
      "number of covariates:\t\t\t\t 14\n"
     ]
    }
   ],
   "source": [
    "print(\"number of nonzero followup times:\\t\\t\", len(y_df[y_df[\"lenfol\"]>0][\"lenfol\"]))\n",
    "print(\"proportion of endpoint reached/right censored:\\t\", len(y_df[y_df[\"fstat\"]][\"fstat\"])/len(y_df) )\n",
    "print(\"number of covariates:\\t\\t\\t\\t\", len(data_x.columns))"
   ]
  },
  {
   "cell_type": "markdown",
   "metadata": {},
   "source": [
    "# Veteran Lung Cancer Data Set"
   ]
  },
  {
   "cell_type": "code",
   "execution_count": 24,
   "metadata": {},
   "outputs": [
    {
     "data": {
      "image/png": "[encoded data removed]",
      "text/plain": [
       "<Figure size 1008x504 with 2 Axes>"
      ]
     },
     "metadata": {
      "needs_background": "light"
     },
     "output_type": "display_data"
    }
   ],
   "source": [
    "from sksurv.datasets import load_veterans_lung_cancer\n",
    "\n",
    "data_x, data_y = load_veterans_lung_cancer()\n",
    "y_df = pd.DataFrame.from_records(data_y)\n",
    "\n",
    "\n",
    "histo, ax = plt.subplots(ncols=2, figsize=(14, 7))\n",
    "\n",
    "histo.suptitle(\"Veteran Lung Cancer Survival Distribution\")\n",
    "\n",
    "histo = ax[0].hist(y_df[~y_df[\"Status\"]][\"Survival_in_days\"], bins = 20)\n",
    "histo = ax[1].hist(y_df[y_df[\"Status\"]][\"Survival_in_days\"], bins = 35)\n"
   ]
  },
  {
   "cell_type": "code",
   "execution_count": 13,
   "metadata": {},
   "outputs": [
    {
     "name": "stdout",
     "output_type": "stream",
     "text": [
      "number of nonzero survival times:\t 137\n",
      "number of covariates:\t\t\t 6\n"
     ]
    }
   ],
   "source": [
    "print(\"number of nonzero survival times:\\t\", len(y_df[y_df[\"Survival_in_days\"]>0]))\n",
    "\n",
    "print(\"number of covariates:\\t\\t\\t\", len(data_x.columns))"
   ]
  },
  {
   "cell_type": "code",
   "execution_count": null,
   "metadata": {},
   "outputs": [],
   "source": []
  }
 ],
 "metadata": {
  "kernelspec": {
   "display_name": "Python 3",
   "language": "python",
   "name": "python3"
  },
  "language_info": {
   "codemirror_mode": {
    "name": "ipython",
    "version": 3
   },
   "file_extension": ".py",
   "mimetype": "text/x-python",
   "name": "python",
   "nbconvert_exporter": "python",
   "pygments_lexer": "ipython3",
   "version": "3.8.3"
  }
 },
 "nbformat": 4,
 "nbformat_minor": 4
}
