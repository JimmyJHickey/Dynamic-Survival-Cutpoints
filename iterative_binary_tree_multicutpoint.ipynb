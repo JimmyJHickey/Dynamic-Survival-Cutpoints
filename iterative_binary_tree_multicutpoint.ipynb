{
 "cells": [
  {
   "cell_type": "code",
   "execution_count": 1,
   "metadata": {},
   "outputs": [],
   "source": [
    "class Node:\n",
    "    def __init__(self, index):\n",
    "        self.index = index\n",
    "        self.left_child = None\n",
    "        self.right_child = None\n",
    "        self.left_bound = None\n",
    "        self.right_bound = None"
   ]
  },
  {
   "cell_type": "code",
   "execution_count": 1,
   "metadata": {},
   "outputs": [],
   "source": [
    "def build_tree(root, depth):\n",
    "    root.index = 0\n",
    "    current_nodes = [root]\n",
    "    \n",
    "    counter = 1\n",
    "\n",
    "    for i in range(0, depth+1):\n",
    "        \n",
    "        print(i)\n",
    "        print([n.index for n in current_nodes])\n",
    "        \n",
    "        prev_nodes = current_nodes.copy()\n",
    "        \n",
    "        for node in prev_nodes:\n",
    "            node.left_child = Node(counter)\n",
    "            counter += 1\n",
    "            node.right_child = Node(counter)\n",
    "            counter += 1\n",
    "            current_nodes.pop()\n",
    "            current_nodes.append(node.left_child)\n",
    "            current_nodes.append(node.right_child)\n",
    "        \n",
    "    return(root)"
   ]
  },
  {
   "cell_type": "code",
   "execution_count": 3,
   "metadata": {},
   "outputs": [
    {
     "data": {
      "text/plain": [
       "<__main__.Node at 0x2379bd59370>"
      ]
     },
     "execution_count": 3,
     "metadata": {},
     "output_type": "execute_result"
    }
   ],
   "source": [
    "depth = 2\n",
    "root = Node(0)\n",
    "min_val = 0\n",
    "max_val = 1000\n",
    "root.left_bound = min_val\n",
    "root.right_bound = max_val\n",
    "build_tree(root, depth)"
   ]
  },
  {
   "cell_type": "code",
   "execution_count": 4,
   "metadata": {},
   "outputs": [],
   "source": [
    "cutpoints = [500, 250, 150, 275, 750, 600, 900]"
   ]
  },
  {
   "cell_type": "code",
   "execution_count": 5,
   "metadata": {},
   "outputs": [],
   "source": [
    "def depth_first(root):\n",
    " \n",
    "    if (root == None):\n",
    "        return\n",
    " \n",
    "    st = []\n",
    " \n",
    "    # start from root node (set current node to root node)\n",
    "    curr = root\n",
    " \n",
    "    # run till stack is not empty or current is\n",
    "    # not NULL\n",
    "    while (len(st) or curr != None):\n",
    "     \n",
    "        # Print left children while exist\n",
    "        # and keep appending right into the\n",
    "        # stack.\n",
    "        while (curr != None):\n",
    "         \n",
    "            print(curr.index, end = \" \")\n",
    "            cutpoints[curr.index] = cutpoints[curr.index] + 2\n",
    "            print(f\"index:\\t{curr.index}\\tLB:\\t{curr.left_bound}\\tRB:\\t{curr.right_bound}\")\n",
    "    \n",
    "            if (curr.right_child != None):\n",
    "                st.append(curr.right_child)\n",
    "                curr.right_child.left_bound = cutpoints[curr.index]\n",
    "                curr.right_child.right_bound = curr.right_bound\n",
    " \n",
    "            if (curr.left_child != None):\n",
    "                curr.left_child.left_bound = curr.left_bound\n",
    "                curr.left_child.right_bound = cutpoints[curr.index]\n",
    "\n",
    "            curr = curr.left_child\n",
    "            \n",
    "         \n",
    "        # We reach when curr is NULL, so We\n",
    "        # take out a right child from stack\n",
    "        if (len(st) > 0):\n",
    "            curr = st[-1]\n",
    "            st.pop()"
   ]
  },
  {
   "cell_type": "code",
   "execution_count": 6,
   "metadata": {},
   "outputs": [
    {
     "name": "stdout",
     "output_type": "stream",
     "text": [
      "0 index:\t0\tLB:\t0\tRB:\t1000\n",
      "1 index:\t1\tLB:\t0\tRB:\t502\n",
      "3 index:\t3\tLB:\t0\tRB:\t252\n",
      "4 index:\t4\tLB:\t252\tRB:\t502\n",
      "2 index:\t2\tLB:\t502\tRB:\t1000\n",
      "5 index:\t5\tLB:\t502\tRB:\t152\n",
      "6 index:\t6\tLB:\t152\tRB:\t1000\n"
     ]
    }
   ],
   "source": [
    "depth_first(root)"
   ]
  },
  {
   "cell_type": "code",
   "execution_count": 7,
   "metadata": {},
   "outputs": [],
   "source": [
    "from scipy.optimize import minimize\n",
    "import scipy.stats\n",
    "import torch\n",
    "import torch.optim as optim\n",
    "import scipy\n",
    "# shifted and scaled sigmoid function\n",
    "def test_sigmoid(x, a=0, b=1.):\n",
    "    return 1 / (1 + (np.exp(-1 * (x - a) / b)))"
   ]
  },
  {
   "cell_type": "code",
   "execution_count": 8,
   "metadata": {},
   "outputs": [
    {
     "data": {
      "image/png": "[encoded data removed]",
      "text/plain": [
       "<Figure size 432x288 with 1 Axes>"
      ]
     },
     "metadata": {
      "needs_background": "light"
     },
     "output_type": "display_data"
    }
   ],
   "source": [
    "# from cutpoint_model import Model\n",
    "import numpy as np\n",
    "import matplotlib.pyplot as plt\n",
    "from math import exp\n",
    "\n",
    "N = 10000\n",
    "P = 5\n",
    "\n",
    "rs = np.random.RandomState(1978)\n",
    "\n",
    "X = rs.randn(N, P)\n",
    "w = rs.randn(P)\n",
    "\n",
    "y_prob = test_sigmoid(X @ w)\n",
    "y = (rs.rand(N) < y_prob).astype(int)\n",
    "t = (rs.randn(N) + 5 * y + (rs.rand(N)> 0.5) * 5 * y )\n",
    "\n",
    "# make times positive\n",
    "t += abs(min(t))\n",
    "\n",
    "plt.hist(t[y==0], bins=50, alpha = 0.5, color = \"blue\", label=\"False\")\n",
    "plt.hist(t[y==1], bins=50, alpha = 0.5, color = \"red\", label=\"True\")\n",
    "plt.legend()\n",
    "plt.show()"
   ]
  },
  {
   "cell_type": "code",
   "execution_count": 13,
   "metadata": {},
   "outputs": [],
   "source": [
    "# torch.autograd.set_detect_anomaly(True)\n",
    "class Model:\n",
    "    def __init__(self, X, t, sigmoid_temp = 0.01, depth = 1, cutpoint0=None):\n",
    "        self.X = torch.tensor(X, dtype=torch.float)\n",
    "        self.t = torch.tensor(t, dtype=torch.float)\n",
    "        self.sigmoid_temp = sigmoid_temp \n",
    "        self.depth = depth\n",
    "\n",
    "        self.n_cutpoints = 2**(depth+1)-1\n",
    "        self.theta = [torch.zeros( X.shape[1]+1, requires_grad=True).float() for i in range(0,self.n_cutpoints)]\n",
    "            \n",
    "        self.cutpoint_logit = [torch.tensor(self.logit(torch.tensor(cutpoint)).item(), requires_grad=True) for cutpoint in cutpoint0]\n",
    "    \n",
    "        # set up cutpoint tree\n",
    "        self.root = Node(0)\n",
    "        root.left_bound = min(self.t)\n",
    "        root.right_bound = max(self.t)\n",
    "        self.root = build_tree(root, depth)\n",
    "        \n",
    "        \n",
    "    def logit(self, x):\n",
    "        return torch.log(x/ (1 - x))\n",
    "    \n",
    "    # shifted and scaled sigmoid function\n",
    "    def sigmoid(self, x, a=0, b=1.):\n",
    "        return 1 / (1 + (torch.exp(-1 * (x - a) / b)))\n",
    "    \n",
    "    \n",
    "    def pred_value(self, x, theta):\n",
    "        prod = torch.matmul(x,theta)\n",
    "        return self.sigmoid(prod)\n",
    "    \n",
    "    \n",
    "    def loss_func(self, params, x, t):\n",
    "\n",
    "        theta = params[:-1][0]\n",
    "\n",
    "        cutpoint_logit = params[-1]\n",
    "\n",
    "        cutpoint = self.sigmoid(cutpoint_logit)\n",
    "\n",
    "        left_boundary = self.sigmoid(t, 0, self.sigmoid_temp)\n",
    "        right_boundary = -1 * self.sigmoid(t, 1, self.sigmoid_temp)\n",
    "#                 right_boundary = -1 * self.sigmoid(t, c0, self.sigmoid_temp)\n",
    "\n",
    "        t_disc = self.sigmoid(t, cutpoint, self.sigmoid_temp)\n",
    "        \n",
    "        \n",
    "        x1 = torch.cat([x, torch.ones((len(x), 1))], axis=1)\n",
    "\n",
    "        p_hat = self.pred_value(x1, theta)\n",
    "\n",
    "        n = len(t)\n",
    "\n",
    "        likelihood = (-1/n) * torch.sum( t_disc * right_boundary * torch.log(p_hat) + (1-t_disc) * left_boundary *torch.log(1-p_hat) )\n",
    "        \n",
    "        prior = -1 * scipy.stats.beta.logpdf(cutpoint.detach().numpy(), 1.5, 1.5)\n",
    "\n",
    "#         print('Likelihood = %.7e | Prior = %.7e' % (likelihood, prior))\n",
    "\n",
    "        return likelihood + prior\n",
    "    \n",
    "    \n",
    "    def train(self):\n",
    "#         optimizers = [optim.Adam([self.theta[i], self.cutpoint_logit[i]], lr=0.001) for i in range(0,self.n_cutpoints)] \n",
    "        # + is concatenateion of lists\n",
    "        optimizer = optim.Adam(self.theta + self.cutpoint_logit, lr=0.001)\n",
    "        loss = 0\n",
    "        loss_list = [0 for i in range(0, self.n_cutpoints)]\n",
    "        iteration_num = 1\n",
    "\n",
    "        while iteration_num < 10:\n",
    "            \n",
    "#             # middle cutpoint\n",
    "#             t_min = min(self.t)\n",
    "#             t_max = max(self.t)\n",
    "#             t_convert = (self.t - t_min) / (t_max-t_min)\n",
    "\n",
    "#             optimizer0.zero_grad()\n",
    "#             loss0 = self.loss_func((self.theta, self.cutpoint_logit0), self.X, t_convert)\n",
    "#             loss0.backward(retain_graph=True)\n",
    "#             optimizer0.step()\n",
    "#             self.cutpoint0 = self.sigmoid(self.cutpoint_logit0) * (t_max-t_min) + t_min\n",
    "            \n",
    "            \n",
    "#             # cutpoint left of middle\n",
    "#             t_min = min(self.t)\n",
    "#             t_max = self.cutpoint0\n",
    "#             X = self.X[(t_min <= self.t) == (self.t <= t_max), :]\n",
    "#             t = self.t[(t_min <= self.t) == (self.t <= t_max)]\n",
    "#             t_convert = (t - t_min) / (t_max-t_min)\n",
    "#             # impose sigmoid at boundary of unit interval\n",
    "            \n",
    "#             optimizer1.zero_grad()\n",
    "#             loss1 = self.loss_func((self.theta, self.cutpoint_logit1), X, t_convert)\n",
    "#             loss1.backward(retain_graph=True)\n",
    "#             optimizer1.step()\n",
    "#             self.cutpoint1 = self.sigmoid(self.cutpoint_logit1) * (t_max-t_min) + t_min\n",
    "            \n",
    "            \n",
    "#             # cutpoint right of middle\n",
    "#             t_min = self.cutpoint0\n",
    "#             t_max = max(self.t)\n",
    "#             X = self.X[(t_min <= self.t) == (self.t <= t_max), :]\n",
    "#             t = self.t[(t_min <= self.t) == (self.t <= t_max)]\n",
    "#             t_convert = (t - t_min) / (t_max-t_min)\n",
    "            \n",
    "#             optimizer2.zero_grad()\n",
    "#             loss2 = self.loss_func((self.theta, self.cutpoint_logit2), X, t_convert)\n",
    "#             loss2.backward(retain_graph=True)\n",
    "#             optimizer2.step()\n",
    "#             self.cutpoint2 = self.sigmoid(self.cutpoint_logit2) * (t_max-t_min) + t_min\n",
    "\n",
    "\n",
    "            #####################################\n",
    "            # depth first traversal\n",
    "\n",
    "            st = []\n",
    "\n",
    "            # start from root node (set current node to root node)\n",
    "            curr = self.root\n",
    "\n",
    "            # run till stack is not empty or current is\n",
    "            # not NULL\n",
    "            while (len(st) or curr != None):\n",
    "\n",
    "                # Print left children while exist\n",
    "                # and keep appending right into the\n",
    "                # stack.\n",
    "                while (curr != None):\n",
    "                    t_min = curr.left_bound\n",
    "                    t_max = curr.right_bound\n",
    "                    X = self.X[(t_min <= self.t) == (self.t <= t_max), :]\n",
    "                    t = self.t[(t_min <= self.t) == (self.t <= t_max)]\n",
    "                    t_convert = (t - t_min) / (t_max-t_min)\n",
    "                    \n",
    "                    loss_list[curr.index] = self.loss_func((self.theta[curr.index], self.cutpoint_logit[curr.index]), X, t_convert)\n",
    "                    self.cutpoint_logit[curr.index] = self.sigmoid(self.cutpoint_logit[curr.index]) * (t_max-t_min) + t_min\n",
    "                    \n",
    "                    print(f\"index:\\t{curr.index}\\tLB:\\t{curr.left_bound}\\tvalue:\\t{self.cutpoint_logit[curr.index]}\\t\\tRB:\\t{curr.right_bound}\")\n",
    "\n",
    "                    if (curr.right_child != None):\n",
    "                        st.append(curr.right_child)\n",
    "                        curr.right_child.left_bound = self.cutpoint_logit[curr.index]\n",
    "                        curr.right_child.right_bound = curr.right_bound\n",
    "\n",
    "                    if (curr.left_child != None):\n",
    "                        curr.left_child.left_bound = curr.left_bound\n",
    "                        curr.left_child.right_bound = self.cutpoint_logit[curr.index]\n",
    "\n",
    "                    curr = curr.left_child\n",
    "\n",
    "\n",
    "                # We reach when curr is NULL, so We\n",
    "                # take out a right child from stack\n",
    "                if (len(st) > 0):\n",
    "                    curr = st[-1]\n",
    "                    st.pop()\n",
    "\n",
    "\n",
    "            ###################################\n",
    "            \n",
    "            loss = sum(loss_list)\n",
    "            loss.backward(retain_graph=True)\n",
    "            optimizer.step()\n",
    "\n",
    "            # one optimization step\n",
    "            iteration_num += 1\n",
    "\n",
    "\n"
   ]
  },
  {
   "cell_type": "code",
   "execution_count": 16,
   "metadata": {},
   "outputs": [],
   "source": [
    "depth = 2\n",
    "cutpoint0 = [0.5 for i in range(0, 2**(depth+1) + -1)]\n",
    "\n",
    "m = Model(X, t, depth = depth, cutpoint0=cutpoint0)\n"
   ]
  },
  {
   "cell_type": "code",
   "execution_count": 17,
   "metadata": {},
   "outputs": [
    {
     "name": "stdout",
     "output_type": "stream",
     "text": [
      "index:\t0\tLB:\t0.0\tvalue:\t8.402695655822754\t\tRB:\t16.805391311645508\n",
      "index:\t1\tLB:\t0.0\tvalue:\t4.201347827911377\t\tRB:\t8.402695655822754\n",
      "index:\t3\tLB:\t0.0\tvalue:\t2.1006739139556885\t\tRB:\t4.201347827911377\n",
      "index:\t4\tLB:\t4.201347827911377\tvalue:\t6.3020219802856445\t\tRB:\t8.402695655822754\n",
      "index:\t2\tLB:\t8.402695655822754\tvalue:\t12.604043960571289\t\tRB:\t16.805391311645508\n",
      "index:\t5\tLB:\t8.402695655822754\tvalue:\t10.50337028503418\t\tRB:\t12.604043960571289\n",
      "index:\t6\tLB:\t12.604043960571289\tvalue:\t14.704717636108398\t\tRB:\t16.805391311645508\n",
      "index:\t0\tLB:\t0.0\tvalue:\t16.801624298095703\t\tRB:\t16.805391311645508\n",
      "index:\t1\tLB:\t0.0\tvalue:\t16.55372428894043\t\tRB:\t16.801624298095703\n",
      "index:\t3\tLB:\t0.0\tvalue:\t14.748849868774414\t\tRB:\t16.55372428894043\n",
      "index:\t4\tLB:\t16.55372428894043\tvalue:\t16.801170349121094\t\tRB:\t16.801624298095703\n",
      "index:\t2\tLB:\t16.801624298095703\tvalue:\t16.805391311645508\t\tRB:\t16.805391311645508\n",
      "index:\t5\tLB:\t16.801624298095703\tvalue:\t16.805391311645508\t\tRB:\t16.805391311645508\n",
      "index:\t6\tLB:\t16.805391311645508\tvalue:\t16.805391311645508\t\tRB:\t16.805391311645508\n",
      "index:\t0\tLB:\t0.0\tvalue:\t16.805391311645508\t\tRB:\t16.805391311645508\n",
      "index:\t1\tLB:\t0.0\tvalue:\t16.805389404296875\t\tRB:\t16.805391311645508\n",
      "index:\t3\tLB:\t0.0\tvalue:\t16.805383682250977\t\tRB:\t16.805389404296875\n",
      "index:\t4\tLB:\t16.805389404296875\tvalue:\t16.805391311645508\t\tRB:\t16.805391311645508\n",
      "index:\t2\tLB:\t16.805391311645508\tvalue:\t16.805391311645508\t\tRB:\t16.805391311645508\n",
      "index:\t5\tLB:\t16.805391311645508\tvalue:\t16.805391311645508\t\tRB:\t16.805391311645508\n",
      "index:\t6\tLB:\t16.805391311645508\tvalue:\t16.805391311645508\t\tRB:\t16.805391311645508\n",
      "index:\t0\tLB:\t0.0\tvalue:\t16.805391311645508\t\tRB:\t16.805391311645508\n",
      "index:\t1\tLB:\t0.0\tvalue:\t16.805391311645508\t\tRB:\t16.805391311645508\n",
      "index:\t3\tLB:\t0.0\tvalue:\t16.805391311645508\t\tRB:\t16.805391311645508\n",
      "index:\t4\tLB:\t16.805391311645508\tvalue:\t16.805391311645508\t\tRB:\t16.805391311645508\n",
      "index:\t2\tLB:\t16.805391311645508\tvalue:\t16.805391311645508\t\tRB:\t16.805391311645508\n",
      "index:\t5\tLB:\t16.805391311645508\tvalue:\t16.805391311645508\t\tRB:\t16.805391311645508\n",
      "index:\t6\tLB:\t16.805391311645508\tvalue:\t16.805391311645508\t\tRB:\t16.805391311645508\n",
      "index:\t0\tLB:\t0.0\tvalue:\t16.805391311645508\t\tRB:\t16.805391311645508\n",
      "index:\t1\tLB:\t0.0\tvalue:\t16.805391311645508\t\tRB:\t16.805391311645508\n",
      "index:\t3\tLB:\t0.0\tvalue:\t16.805391311645508\t\tRB:\t16.805391311645508\n",
      "index:\t4\tLB:\t16.805391311645508\tvalue:\t16.805391311645508\t\tRB:\t16.805391311645508\n",
      "index:\t2\tLB:\t16.805391311645508\tvalue:\t16.805391311645508\t\tRB:\t16.805391311645508\n",
      "index:\t5\tLB:\t16.805391311645508\tvalue:\t16.805391311645508\t\tRB:\t16.805391311645508\n",
      "index:\t6\tLB:\t16.805391311645508\tvalue:\t16.805391311645508\t\tRB:\t16.805391311645508\n",
      "index:\t0\tLB:\t0.0\tvalue:\t16.805391311645508\t\tRB:\t16.805391311645508\n",
      "index:\t1\tLB:\t0.0\tvalue:\t16.805391311645508\t\tRB:\t16.805391311645508\n",
      "index:\t3\tLB:\t0.0\tvalue:\t16.805391311645508\t\tRB:\t16.805391311645508\n",
      "index:\t4\tLB:\t16.805391311645508\tvalue:\t16.805391311645508\t\tRB:\t16.805391311645508\n",
      "index:\t2\tLB:\t16.805391311645508\tvalue:\t16.805391311645508\t\tRB:\t16.805391311645508\n",
      "index:\t5\tLB:\t16.805391311645508\tvalue:\t16.805391311645508\t\tRB:\t16.805391311645508\n",
      "index:\t6\tLB:\t16.805391311645508\tvalue:\t16.805391311645508\t\tRB:\t16.805391311645508\n",
      "index:\t0\tLB:\t0.0\tvalue:\t16.805391311645508\t\tRB:\t16.805391311645508\n",
      "index:\t1\tLB:\t0.0\tvalue:\t16.805391311645508\t\tRB:\t16.805391311645508\n",
      "index:\t3\tLB:\t0.0\tvalue:\t16.805391311645508\t\tRB:\t16.805391311645508\n",
      "index:\t4\tLB:\t16.805391311645508\tvalue:\t16.805391311645508\t\tRB:\t16.805391311645508\n",
      "index:\t2\tLB:\t16.805391311645508\tvalue:\t16.805391311645508\t\tRB:\t16.805391311645508\n",
      "index:\t5\tLB:\t16.805391311645508\tvalue:\t16.805391311645508\t\tRB:\t16.805391311645508\n",
      "index:\t6\tLB:\t16.805391311645508\tvalue:\t16.805391311645508\t\tRB:\t16.805391311645508\n",
      "index:\t0\tLB:\t0.0\tvalue:\t16.805391311645508\t\tRB:\t16.805391311645508\n",
      "index:\t1\tLB:\t0.0\tvalue:\t16.805391311645508\t\tRB:\t16.805391311645508\n",
      "index:\t3\tLB:\t0.0\tvalue:\t16.805391311645508\t\tRB:\t16.805391311645508\n",
      "index:\t4\tLB:\t16.805391311645508\tvalue:\t16.805391311645508\t\tRB:\t16.805391311645508\n",
      "index:\t2\tLB:\t16.805391311645508\tvalue:\t16.805391311645508\t\tRB:\t16.805391311645508\n",
      "index:\t5\tLB:\t16.805391311645508\tvalue:\t16.805391311645508\t\tRB:\t16.805391311645508\n",
      "index:\t6\tLB:\t16.805391311645508\tvalue:\t16.805391311645508\t\tRB:\t16.805391311645508\n",
      "index:\t0\tLB:\t0.0\tvalue:\t16.805391311645508\t\tRB:\t16.805391311645508\n",
      "index:\t1\tLB:\t0.0\tvalue:\t16.805391311645508\t\tRB:\t16.805391311645508\n",
      "index:\t3\tLB:\t0.0\tvalue:\t16.805391311645508\t\tRB:\t16.805391311645508\n",
      "index:\t4\tLB:\t16.805391311645508\tvalue:\t16.805391311645508\t\tRB:\t16.805391311645508\n",
      "index:\t2\tLB:\t16.805391311645508\tvalue:\t16.805391311645508\t\tRB:\t16.805391311645508\n",
      "index:\t5\tLB:\t16.805391311645508\tvalue:\t16.805391311645508\t\tRB:\t16.805391311645508\n",
      "index:\t6\tLB:\t16.805391311645508\tvalue:\t16.805391311645508\t\tRB:\t16.805391311645508\n"
     ]
    }
   ],
   "source": [
    "m.train()"
   ]
  },
  {
   "cell_type": "code",
   "execution_count": 285,
   "metadata": {},
   "outputs": [
    {
     "data": {
      "text/plain": [
       "[tensor(16.8054, grad_fn=<AddBackward0>),\n",
       " tensor(16.8054, grad_fn=<AddBackward0>),\n",
       " tensor(16.8054, grad_fn=<AddBackward0>)]"
      ]
     },
     "execution_count": 285,
     "metadata": {},
     "output_type": "execute_result"
    }
   ],
   "source": [
    "m.cutpoint_logit"
   ]
  },
  {
   "cell_type": "code",
   "execution_count": 289,
   "metadata": {},
   "outputs": [
    {
     "data": {
      "image/png": "[encoded data removed]",
      "text/plain": [
       "<Figure size 432x288 with 1 Axes>"
      ]
     },
     "metadata": {
      "needs_background": "light"
     },
     "output_type": "display_data"
    }
   ],
   "source": [
    "plt.hist(t[y==0], bins=50, alpha = 0.5, color = \"blue\", label=\"False\")\n",
    "plt.hist(t[y==1], bins=50, alpha = 0.5, color = \"red\", label=\"True\")\n",
    "\n",
    "\n",
    "for cpi in m.cutpoint_logit:\n",
    "    plt.axvline(cpi)\n",
    "\n",
    "plt.legend()\n",
    "plt.show()"
   ]
  },
  {
   "cell_type": "code",
   "execution_count": null,
   "metadata": {},
   "outputs": [],
   "source": []
  },
  {
   "cell_type": "code",
   "execution_count": 181,
   "metadata": {},
   "outputs": [
    {
     "data": {
      "text/plain": [
       "[tensor([0., 0., 0., 0., 0., 0.], requires_grad=True),\n",
       " tensor([0., 0., 0., 0., 0., 0.], requires_grad=True),\n",
       " tensor([0., 0., 0., 0., 0., 0.], requires_grad=True),\n",
       " tensor([0., 0., 0., 0., 0., 0.], requires_grad=True),\n",
       " tensor([0., 0., 0., 0., 0., 0.], requires_grad=True),\n",
       " tensor([0., 0., 0., 0., 0., 0.], requires_grad=True),\n",
       " tensor([0., 0., 0., 0., 0., 0.], requires_grad=True)]"
      ]
     },
     "execution_count": 181,
     "metadata": {},
     "output_type": "execute_result"
    }
   ],
   "source": []
  },
  {
   "cell_type": "code",
   "execution_count": null,
   "metadata": {},
   "outputs": [],
   "source": []
  }
 ],
 "metadata": {
  "kernelspec": {
   "display_name": "Python 3",
   "language": "python",
   "name": "python3"
  },
  "language_info": {
   "codemirror_mode": {
    "name": "ipython",
    "version": 3
   },
   "file_extension": ".py",
   "mimetype": "text/x-python",
   "name": "python",
   "nbconvert_exporter": "python",
   "pygments_lexer": "ipython3",
   "version": "3.8.3"
  }
 },
 "nbformat": 4,
 "nbformat_minor": 4
}
