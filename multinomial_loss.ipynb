{
 "cells": [
  {
   "cell_type": "markdown",
   "metadata": {},
   "source": [
    "# tree"
   ]
  },
  {
   "cell_type": "code",
   "execution_count": 407,
   "metadata": {},
   "outputs": [],
   "source": [
    "class Node:\n",
    "    def __init__(self, index, depth=0):\n",
    "        self.index = index\n",
    "        self.depth = depth\n",
    "        self.left_child = None\n",
    "        self.right_child = None\n",
    "        self.left_bound = None\n",
    "        self.right_bound = None"
   ]
  },
  {
   "cell_type": "code",
   "execution_count": 408,
   "metadata": {},
   "outputs": [],
   "source": [
    "def breadth_first(root):\n",
    " \n",
    "    current_nodes = [root]\n",
    "    \n",
    "    while True:\n",
    "        \n",
    "        prev_nodes = current_nodes\n",
    "        current_nodes = []\n",
    "        \n",
    "        for node in prev_nodes:\n",
    "            print(node.index)\n",
    "            current_nodes.append(node.left_child)\n",
    "            current_nodes.append(node.right_child)\n",
    "        \n",
    "        if all(node is None for node in current_nodes):\n",
    "            break"
   ]
  },
  {
   "cell_type": "code",
   "execution_count": 409,
   "metadata": {},
   "outputs": [],
   "source": [
    "# iterative tree building\n",
    "def build_tree(root, depth):\n",
    "    root.index = 0\n",
    "    current_nodes = [root]\n",
    "    \n",
    "    counter = 1\n",
    "\n",
    "    for i in range(0, depth):\n",
    "        \n",
    "        new_nodes = []\n",
    "        \n",
    "        for node in current_nodes:\n",
    "            node.left_child = Node(counter, i+1)\n",
    "            counter += 1\n",
    "            node.right_child = Node(counter, i+1)\n",
    "            counter += 1\n",
    "            new_nodes.append(node.left_child)\n",
    "            new_nodes.append(node.right_child)\n",
    "        \n",
    "        current_nodes = new_nodes.copy()\n",
    "        \n",
    "    return(root)"
   ]
  },
  {
   "cell_type": "code",
   "execution_count": 410,
   "metadata": {},
   "outputs": [
    {
     "data": {
      "text/plain": [
       "<__main__.Node at 0x18e0316f850>"
      ]
     },
     "execution_count": 410,
     "metadata": {},
     "output_type": "execute_result"
    }
   ],
   "source": [
    "depth = 3\n",
    "root = Node(0, 0)\n",
    "build_tree(root, 3)"
   ]
  },
  {
   "cell_type": "code",
   "execution_count": 411,
   "metadata": {},
   "outputs": [
    {
     "data": {
      "text/plain": [
       "3"
      ]
     },
     "execution_count": 411,
     "metadata": {},
     "output_type": "execute_result"
    }
   ],
   "source": [
    "root.right_child.right_child.right_child.depth"
   ]
  },
  {
   "cell_type": "code",
   "execution_count": 412,
   "metadata": {},
   "outputs": [],
   "source": [
    "cutpoints = [500, 250, 150, 275, 750, 600, 900]\n",
    "\n",
    "def depth_first(root, max_depth=10):\n",
    " \n",
    "    if (root == None):\n",
    "        return\n",
    " \n",
    "    st = []\n",
    " \n",
    "    # start from root node (set current node to root node)\n",
    "    curr = root\n",
    "    curr_depth = 0\n",
    "    # run till stack is not empty or current is\n",
    "    # not NULL\n",
    "    while (len(st) or curr != None):\n",
    "     \n",
    "\n",
    "        # Print left children while exist\n",
    "        # and keep appending right into the\n",
    "        # stack.\n",
    "        while (curr != None):\n",
    "\n",
    "            print(curr.index, end = \" \")\n",
    "            cutpoints[curr.index] = cutpoints[curr.index] + 2\n",
    "            print(f\"index:\\t{curr.index}\\tLB:\\t{curr.left_bound}\\tRB:\\t{curr.right_bound}\")\n",
    "    \n",
    "            if (curr.right_child != None):\n",
    "            \n",
    "                curr.right_child.left_bound = cutpoints[curr.index]\n",
    "                curr.right_child.right_bound = curr.right_bound\n",
    "                \n",
    "                if(curr_depth < max_depth):\n",
    "                    st.append(curr.right_child)\n",
    "\n",
    " \n",
    "            if (curr.left_child != None):\n",
    "                curr.left_child.left_bound = curr.left_bound\n",
    "                curr.left_child.right_bound = cutpoints[curr.index]\n",
    "\n",
    "            if (curr_depth < max_depth):\n",
    "                curr = curr.left_child\n",
    "                curr_depth += 1\n",
    "            else:\n",
    "                curr = None\n",
    "\n",
    "         \n",
    "        # We reach when curr is NULL, so We\n",
    "        # take out a right child from stack\n",
    "        if (len(st) > 0):\n",
    "\n",
    "            curr = st[-1]\n",
    "            st.pop()"
   ]
  },
  {
   "cell_type": "code",
   "execution_count": 431,
   "metadata": {},
   "outputs": [],
   "source": [
    "# Iterative function for inorder tree traversal\n",
    "def inorder(root, max_depth):\n",
    "     \n",
    "    # Set current to root of binary tree\n",
    "    current = root\n",
    "    current_depth = 0\n",
    "    stack = [] # initialize stack\n",
    "    out = []\n",
    "     \n",
    "    while True:\n",
    "         \n",
    "        # Reach the left most Node of the current Node\n",
    "        if current is not None:\n",
    "             \n",
    "            # Place pointer to a tree node on the stack\n",
    "            # before traversing the node's left subtree\n",
    "            stack.append(current)\n",
    "            current = current.left_child\n",
    "            current_depth += 1\n",
    "\n",
    "\n",
    "        # BackTrack from the empty subtree and visit the Node\n",
    "        # at the top of the stack; however, if the stack is\n",
    "        # empty you are done\n",
    "        elif(stack):\n",
    "            current = stack.pop()\n",
    "            \n",
    "            if current.depth <= max_depth:\n",
    "                out.append(current)\n",
    "         \n",
    "            # We have visited the node and its left\n",
    "            # subtree. Now, it's right subtree's turn\n",
    "            current = current.right_child\n",
    " \n",
    "        else:\n",
    "            break\n",
    "\n",
    "      \n",
    "    print()\n",
    "    return(out)"
   ]
  },
  {
   "cell_type": "code",
   "execution_count": 432,
   "metadata": {},
   "outputs": [
    {
     "name": "stdout",
     "output_type": "stream",
     "text": [
      "\n",
      "[0]\n",
      "\n",
      "[1, 0, 2]\n",
      "\n",
      "[3, 1, 4, 0, 5, 2, 6]\n",
      "\n",
      "[7, 3, 8, 1, 9, 4, 10, 0, 11, 5, 12, 2, 13, 6, 14]\n"
     ]
    }
   ],
   "source": [
    "depth = 3\n",
    "root = Node(0)\n",
    "build_tree(root, depth)\n",
    "# breadth_first(root)\n",
    "# depth_first(root, 2)\n",
    "for i in range(0, depth+1):\n",
    "    out = inorder(root, i)\n",
    "    print([c.index for c in out])"
   ]
  },
  {
   "cell_type": "markdown",
   "metadata": {},
   "source": [
    "# data gen"
   ]
  },
  {
   "cell_type": "code",
   "execution_count": 429,
   "metadata": {},
   "outputs": [],
   "source": [
    "from scipy.optimize import minimize\n",
    "import scipy.stats\n",
    "import torch\n",
    "import torch.optim as optim\n",
    "import scipy\n",
    "# shifted and scaled sigmoid function\n",
    "def test_sigmoid(x, a=0, b=1.):\n",
    "    return 1 / (1 + (np.exp(-1 * (x - a) / b)))"
   ]
  },
  {
   "cell_type": "code",
   "execution_count": 430,
   "metadata": {},
   "outputs": [
    {
     "data": {
      "image/png": "[encoded data removed]",
      "text/plain": [
       "<Figure size 432x288 with 1 Axes>"
      ]
     },
     "metadata": {
      "needs_background": "light"
     },
     "output_type": "display_data"
    }
   ],
   "source": [
    "# from cutpoint_model import Model\n",
    "import numpy as np\n",
    "import matplotlib.pyplot as plt\n",
    "from math import exp\n",
    "\n",
    "N = 10000\n",
    "P = 5\n",
    "\n",
    "rs = np.random.RandomState(1978)\n",
    "\n",
    "X = rs.randn(N, P)\n",
    "w = rs.randn(P)\n",
    "\n",
    "y_prob = test_sigmoid(X @ w)\n",
    "y = (rs.rand(N) < y_prob).astype(int)\n",
    "t = (rs.randn(N) + 5 * y + (rs.rand(N)> 0.5) * 5 * y )\n",
    "\n",
    "# make times positive\n",
    "t += abs(min(t))\n",
    "\n",
    "plt.hist(t[y==0], bins=50, alpha = 0.5, color = \"blue\", label=\"False\")\n",
    "plt.hist(t[y==1], bins=50, alpha = 0.5, color = \"red\", label=\"True\")\n",
    "plt.legend()\n",
    "plt.show()"
   ]
  },
  {
   "cell_type": "code",
   "execution_count": null,
   "metadata": {},
   "outputs": [],
   "source": [
    "#             #####################################\n",
    "#             # breadth first traversal\n",
    "\n",
    "#             current_nodes = [self.root]\n",
    "    \n",
    "#             while True:\n",
    "\n",
    "#                 current_thetas = [self.theta[node.index] for node in current_nodes]\n",
    "#                 cutpoint_logits = [self.cutpoint_logit[node.index] for node in current_nodes]\n",
    "#                 left_boundaries = [node.left_bound for node in current_nodes]\n",
    "#                 right_boundaries = [node.right_bound for node in current_nodes]\n",
    "\n",
    "\n",
    "#                 loss += self.multinomial_loss(current_thetas, cutpoint_logits, left_boundaries, right_boundaries)\n",
    "            \n",
    "#                 new_nodes = []\n",
    "\n",
    "#                 print(\"==============================================\")\n",
    "#                 for node in prev_nodes:\n",
    "#                     print(f\"index:\\t{node.index}\\tLB:\\t{node.left_bound}\\tvalue:\\t{self.cutpoint_logit[node.index]}\\t\\tRB:\\t{node.right_bound}\")\n",
    "\n",
    "#                     current_nodes.append(node.left_child)\n",
    "#                     current_nodes.append(node.right_child)\n",
    "                    \n",
    "#                     if (node.right_child != None):\n",
    "#                         node.right_child.left_bound = self.cutpoint_logit[node.index]\n",
    "#                         node.right_child.right_bound = node.right_bound\n",
    "\n",
    "#                     if (node.left_child != None):\n",
    "#                         node.left_child.left_bound = node.left_bound\n",
    "#                         node.left_child.right_bound = self.cutpoint_logit[node.index]\n",
    "                \n",
    "#                 current_nodes =  \n",
    "                        \n",
    "                        \n",
    "#                 if all(node is None for node in current_nodes):\n",
    "#                     break\n",
    "\n",
    "#             # end BFS\n",
    "#             ###################################"
   ]
  },
  {
   "cell_type": "code",
   "execution_count": 449,
   "metadata": {},
   "outputs": [],
   "source": [
    "# torch.autograd.set_detect_anomaly(True)\n",
    "class Model:\n",
    "    def __init__(self, X, t, sigmoid_temp = 0.01, depth = 1, cutpoint0=None):\n",
    "        self.X = torch.tensor(X, dtype=torch.float)\n",
    "        self.t = torch.tensor(t, dtype=torch.float)\n",
    "        self.t_convert = (self.t - min(self.t)) / (max(self.t) - min(self.t))\n",
    "        self.sigmoid_temp = sigmoid_temp \n",
    "        self.depth = depth\n",
    "\n",
    "        self.n_cutpoints = 2**(depth+1)-1\n",
    "        self.theta = [torch.zeros( X.shape[1]+1, requires_grad=True).float() for i in range(0,self.n_cutpoints)]\n",
    "            \n",
    "        self.cutpoint_logit = [torch.tensor(self.logit(torch.tensor(cutpoint)).item(), requires_grad=True) for cutpoint in cutpoint0]\n",
    "    \n",
    "        # set up cutpoint tree\n",
    "        self.root = Node(0)\n",
    "        root.left_bound = min(self.t)\n",
    "        root.right_bound = max(self.t)\n",
    "        self.root = build_tree(root, depth)\n",
    "        \n",
    "        \n",
    "    def logit(self, x):\n",
    "        return torch.log(x/ (1 - x))\n",
    "    \n",
    "    # shifted and scaled sigmoid function\n",
    "    def sigmoid(self, x, a=0, b=1.):\n",
    "        return 1 / (1 + (torch.exp(-1 * (x - a) / b)))\n",
    "    \n",
    "    \n",
    "    def pred_value(self, x, theta):\n",
    "        prod = torch.matmul(x,theta)\n",
    "        return self.sigmoid(prod)\n",
    "    \n",
    "    \n",
    "    def multinomial_loss(self, thetas, cutpoint_logits):\n",
    "\n",
    "        n = len(self.t)\n",
    "\n",
    "        # scale cutpoints to [0,1]\n",
    "        cutpoints = [self.sigmoid(cp_logit) for cp_logit in cutpoint_logits]\n",
    "        #-> this gives you a list with ALL boundaries you'll need at this level\n",
    "        \n",
    "        # Matt loop way here:\n",
    "#       for lb, rb in zip([0] + cutpoints, cutpoints + [max(self.t)]):\n",
    "            \n",
    "        \n",
    "        likelihood = 0\n",
    "        prior = 0\n",
    "        \n",
    "        x1 = torch.cat([self.X, torch.ones((len(self.X), 1))], axis=1)\n",
    "        \n",
    "        for curr in range(0, len(cutpoints)+1):\n",
    "            \n",
    "            if curr == 0:\n",
    "                #left_boundary = self.sigmoid(torch.tensor(0), 0, self.sigmoid_temp)\n",
    "                left_boundary = self.sigmoid(self.t, torch.tensor(0), self.sigmoid_temp)\n",
    "            else:\n",
    "                #left_boundary = self.sigmoid(cutpoints[curr-1], 0, self.sigmoid_temp)\n",
    "                left_boundary = self.sigmoid(self.t, cutpoints[curr-1], self.sigmoid_temp)\n",
    "\n",
    "            if curr == len(cutpoints):# + 1:\n",
    "                #right_boundary = self.sigmoid(torch.tensor(max(self.t)), 0, self.sigmoid_temp)\n",
    "                right_boundary = -1 * self.sigmoid(self.t, torch.tensor(max(self.t)), self.sigmoid_temp)\n",
    "            else:\n",
    "                #right_boundary = self.sigmoid(cutpoints[curr], 0, self.sigmoid_temp)      \n",
    "                right_boundary = -1 * self.sigmoid(self.t, cutpoints[curr], self.sigmoid_temp)\n",
    "                \n",
    "            #t_disc.append(left_boundary * right_boundary)\n",
    "\n",
    "            #cutpoint = cutpoints[curr]\n",
    "            #theta = thetas[curr]\n",
    "            \n",
    "            #ignore t_disc = torch.stack(t_disc) # stack all of the individual t_discs into a single 2d array\n",
    "            \n",
    "            #t_disc = self.sigmoid(self.t, cutpoint, self.sigmoid_temp)\n",
    "            p_hat = self.pred_value(x1, theta)\n",
    "            ### IMPORTANT: NEED SEPARATE theta and p_hat FOR EVERY BUCKET ###\n",
    "            ### GOOD TO HAVE 1 THETA OF SHAPE (N_BUCKETS, N_FEATURES), THEN SELECT CURRENT BUCKET\n",
    "            \n",
    "            #likelihood += (-1/n) * torch.sum( t_disc  * torch.log(p_hat)) * left_boundary * right_boundary\n",
    "            likelihood += -1 * torch.mean(torch.log(p_hat) * left_boundary * right_boundary)\n",
    "    \n",
    "    \n",
    "        \n",
    "        # prior loop\n",
    "        # Matt loop way:\n",
    "        # for left, curr, right in zip([0] + cutpoints[:-1], cutpoints, cutpoints[1:] + [max(self.t)]):\n",
    "        for curr in range(0, len(cutpoints)):\n",
    "            temp = (cutpoints[curr] - left_boundary) / (right_boundary - left_boundary)\n",
    "            # do with torch not scipy\n",
    "            prior += -1 * scipy.stats.beta.logpdf(temp.detach().numpy(), 1.5, 1.5)\n",
    "\n",
    "#         print('Likelihood = %.7e | Prior = %.7e' % (likelihood, prior))\n",
    "\n",
    "        return likelihood + prior\n",
    "    \n",
    "    \n",
    "    def train(self):\n",
    "        optimizer = optim.Adam(self.theta + self.cutpoint_logit, lr=0.001)\n",
    "        loss = 0\n",
    "        loss_layers = [0 for i in range(0, self.depth+1)]\n",
    "        iteration_num = 1\n",
    "\n",
    "        ######################################\n",
    "        # training iteration\n",
    "\n",
    "        while iteration_num < 10:\n",
    "\n",
    "            #####################################\n",
    "            # inorder traversal\n",
    "            for current_depth in range(0, self.depth+1):\n",
    "                nodes = inorder(self.root, current_depth)\n",
    "                indices = [node.index for node in nodes]\n",
    "                current_thetas = [self.theta[i] for i in indices]\n",
    "                current_cutpoints_logit = [self.cutpoint_logit[i] for i in indices]\n",
    "                print(indices)\n",
    "\n",
    "                loss_layers[current_depth] = self.multinomial_loss(current_thetas, current_cutpoints_logit)\n",
    "            \n",
    "            \n",
    "            # end inorder traversal\n",
    "            ###################################\n",
    "            \n",
    "            loss = sum(loss_layers)\n",
    "            loss.backward(retain_graph=True)\n",
    "            optimizer.step()\n",
    "\n",
    "            # one optimization step\n",
    "            iteration_num += 1\n",
    "            \n",
    "        # end training iteration\n",
    "        ######################################\n",
    "\n",
    "\n"
   ]
  },
  {
   "cell_type": "code",
   "execution_count": 450,
   "metadata": {},
   "outputs": [],
   "source": [
    "depth = 2\n",
    "cutpoint0 = [0.5 for i in range(0, 2**(depth+1) + -1)]\n",
    "\n",
    "m = Model(X, t, depth = depth, cutpoint0=cutpoint0)\n"
   ]
  },
  {
   "cell_type": "code",
   "execution_count": 451,
   "metadata": {},
   "outputs": [
    {
     "name": "stdout",
     "output_type": "stream",
     "text": [
      "\n",
      "[0]\n"
     ]
    },
    {
     "ename": "IndexError",
     "evalue": "list index out of range",
     "output_type": "error",
     "traceback": [
      "\u001b[1;31m---------------------------------------------------------------------------\u001b[0m",
      "\u001b[1;31mIndexError\u001b[0m                                Traceback (most recent call last)",
      "\u001b[1;32m<ipython-input-451-3dc6e3056ac3>\u001b[0m in \u001b[0;36m<module>\u001b[1;34m\u001b[0m\n\u001b[1;32m----> 1\u001b[1;33m \u001b[0mm\u001b[0m\u001b[1;33m.\u001b[0m\u001b[0mtrain\u001b[0m\u001b[1;33m(\u001b[0m\u001b[1;33m)\u001b[0m\u001b[1;33m\u001b[0m\u001b[1;33m\u001b[0m\u001b[0m\n\u001b[0m",
      "\u001b[1;32m<ipython-input-449-a9d1b68a7323>\u001b[0m in \u001b[0;36mtrain\u001b[1;34m(self)\u001b[0m\n\u001b[0;32m     96\u001b[0m                 \u001b[0mprint\u001b[0m\u001b[1;33m(\u001b[0m\u001b[0mindices\u001b[0m\u001b[1;33m)\u001b[0m\u001b[1;33m\u001b[0m\u001b[1;33m\u001b[0m\u001b[0m\n\u001b[0;32m     97\u001b[0m \u001b[1;33m\u001b[0m\u001b[0m\n\u001b[1;32m---> 98\u001b[1;33m                 \u001b[0mloss_layers\u001b[0m\u001b[1;33m[\u001b[0m\u001b[0mcurrent_depth\u001b[0m\u001b[1;33m]\u001b[0m \u001b[1;33m=\u001b[0m \u001b[0mself\u001b[0m\u001b[1;33m.\u001b[0m\u001b[0mmultinomial_loss\u001b[0m\u001b[1;33m(\u001b[0m\u001b[0mcurrent_thetas\u001b[0m\u001b[1;33m,\u001b[0m \u001b[0mcurrent_cutpoints_logit\u001b[0m\u001b[1;33m)\u001b[0m\u001b[1;33m\u001b[0m\u001b[1;33m\u001b[0m\u001b[0m\n\u001b[0m\u001b[0;32m     99\u001b[0m \u001b[1;33m\u001b[0m\u001b[0m\n\u001b[0;32m    100\u001b[0m \u001b[1;33m\u001b[0m\u001b[0m\n",
      "\u001b[1;32m<ipython-input-449-a9d1b68a7323>\u001b[0m in \u001b[0;36mmultinomial_loss\u001b[1;34m(self, thetas, cutpoint_logits)\u001b[0m\n\u001b[0;32m     49\u001b[0m         \u001b[1;32mfor\u001b[0m \u001b[0mcurr\u001b[0m \u001b[1;32min\u001b[0m \u001b[0mrange\u001b[0m\u001b[1;33m(\u001b[0m\u001b[1;36m0\u001b[0m\u001b[1;33m,\u001b[0m \u001b[0mlen\u001b[0m\u001b[1;33m(\u001b[0m\u001b[0mcutpoints\u001b[0m\u001b[1;33m)\u001b[0m\u001b[1;33m+\u001b[0m\u001b[1;36m1\u001b[0m\u001b[1;33m)\u001b[0m\u001b[1;33m:\u001b[0m\u001b[1;33m\u001b[0m\u001b[1;33m\u001b[0m\u001b[0m\n\u001b[0;32m     50\u001b[0m \u001b[1;33m\u001b[0m\u001b[0m\n\u001b[1;32m---> 51\u001b[1;33m             \u001b[0mcutpoint\u001b[0m \u001b[1;33m=\u001b[0m \u001b[0mcutpoints\u001b[0m\u001b[1;33m[\u001b[0m\u001b[0mcurr\u001b[0m\u001b[1;33m]\u001b[0m\u001b[1;33m\u001b[0m\u001b[1;33m\u001b[0m\u001b[0m\n\u001b[0m\u001b[0;32m     52\u001b[0m             \u001b[0mtheta\u001b[0m \u001b[1;33m=\u001b[0m \u001b[0mthetas\u001b[0m\u001b[1;33m[\u001b[0m\u001b[0mcurr\u001b[0m\u001b[1;33m]\u001b[0m\u001b[1;33m\u001b[0m\u001b[1;33m\u001b[0m\u001b[0m\n\u001b[0;32m     53\u001b[0m \u001b[1;33m\u001b[0m\u001b[0m\n",
      "\u001b[1;31mIndexError\u001b[0m: list index out of range"
     ]
    }
   ],
   "source": [
    "m.train()"
   ]
  },
  {
   "cell_type": "code",
   "execution_count": null,
   "metadata": {},
   "outputs": [],
   "source": []
  }
 ],
 "metadata": {
  "kernelspec": {
   "display_name": "Python 3",
   "language": "python",
   "name": "python3"
  },
  "language_info": {
   "codemirror_mode": {
    "name": "ipython",
    "version": 3
   },
   "file_extension": ".py",
   "mimetype": "text/x-python",
   "name": "python",
   "nbconvert_exporter": "python",
   "pygments_lexer": "ipython3",
   "version": "3.8.3"
  }
 },
 "nbformat": 4,
 "nbformat_minor": 4
}
