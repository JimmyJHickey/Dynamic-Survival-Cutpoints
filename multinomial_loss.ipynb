{
 "cells": [
  {
   "cell_type": "markdown",
   "metadata": {},
   "source": [
    "# tree"
   ]
  },
  {
   "cell_type": "code",
   "execution_count": 1,
   "metadata": {},
   "outputs": [],
   "source": [
    "class Node:\n",
    "    def __init__(self, index, depth=0):\n",
    "        self.index = index\n",
    "        self.depth = depth\n",
    "        self.left_child = None\n",
    "        self.right_child = None\n",
    "        self.left_bound = None\n",
    "        self.right_bound = None"
   ]
  },
  {
   "cell_type": "code",
   "execution_count": 2,
   "metadata": {},
   "outputs": [],
   "source": [
    "def breadth_first(root):\n",
    " \n",
    "    current_nodes = [root]\n",
    "    \n",
    "    while True:\n",
    "        \n",
    "        prev_nodes = current_nodes\n",
    "        current_nodes = []\n",
    "        \n",
    "        for node in prev_nodes:\n",
    "            print(node.index)\n",
    "            current_nodes.append(node.left_child)\n",
    "            current_nodes.append(node.right_child)\n",
    "        \n",
    "        if all(node is None for node in current_nodes):\n",
    "            break"
   ]
  },
  {
   "cell_type": "code",
   "execution_count": 3,
   "metadata": {},
   "outputs": [],
   "source": [
    "# iterative tree building\n",
    "def build_tree(root, depth):\n",
    "    root.index = 0\n",
    "    current_nodes = [root]\n",
    "    \n",
    "    counter = 1\n",
    "\n",
    "    for i in range(0, depth):\n",
    "        \n",
    "        new_nodes = []\n",
    "        \n",
    "        for node in current_nodes:\n",
    "            node.left_child = Node(counter, i+1)\n",
    "            counter += 1\n",
    "            node.right_child = Node(counter, i+1)\n",
    "            counter += 1\n",
    "            new_nodes.append(node.left_child)\n",
    "            new_nodes.append(node.right_child)\n",
    "        \n",
    "        current_nodes = new_nodes.copy()\n",
    "        \n",
    "    return(root)"
   ]
  },
  {
   "cell_type": "code",
   "execution_count": 4,
   "metadata": {},
   "outputs": [
    {
     "data": {
      "text/plain": [
       "<__main__.Node at 0x246ed2ecfd0>"
      ]
     },
     "execution_count": 4,
     "metadata": {},
     "output_type": "execute_result"
    }
   ],
   "source": [
    "depth = 3\n",
    "root = Node(0, 0)\n",
    "build_tree(root, 3)"
   ]
  },
  {
   "cell_type": "code",
   "execution_count": 5,
   "metadata": {},
   "outputs": [
    {
     "data": {
      "text/plain": [
       "3"
      ]
     },
     "execution_count": 5,
     "metadata": {},
     "output_type": "execute_result"
    }
   ],
   "source": [
    "root.right_child.right_child.right_child.depth"
   ]
  },
  {
   "cell_type": "code",
   "execution_count": 6,
   "metadata": {},
   "outputs": [],
   "source": [
    "cutpoints = [500, 250, 150, 275, 750, 600, 900]\n",
    "\n",
    "def depth_first(root, max_depth=10):\n",
    " \n",
    "    if (root == None):\n",
    "        return\n",
    " \n",
    "    st = []\n",
    " \n",
    "    # start from root node (set current node to root node)\n",
    "    curr = root\n",
    "    curr_depth = 0\n",
    "    # run till stack is not empty or current is\n",
    "    # not NULL\n",
    "    while (len(st) or curr != None):\n",
    "     \n",
    "\n",
    "        # Print left children while exist\n",
    "        # and keep appending right into the\n",
    "        # stack.\n",
    "        while (curr != None):\n",
    "\n",
    "            print(curr.index, end = \" \")\n",
    "            cutpoints[curr.index] = cutpoints[curr.index] + 2\n",
    "            print(f\"index:\\t{curr.index}\\tLB:\\t{curr.left_bound}\\tRB:\\t{curr.right_bound}\")\n",
    "    \n",
    "            if (curr.right_child != None):\n",
    "            \n",
    "                curr.right_child.left_bound = cutpoints[curr.index]\n",
    "                curr.right_child.right_bound = curr.right_bound\n",
    "                \n",
    "                if(curr_depth < max_depth):\n",
    "                    st.append(curr.right_child)\n",
    "\n",
    " \n",
    "            if (curr.left_child != None):\n",
    "                curr.left_child.left_bound = curr.left_bound\n",
    "                curr.left_child.right_bound = cutpoints[curr.index]\n",
    "\n",
    "            if (curr_depth < max_depth):\n",
    "                curr = curr.left_child\n",
    "                curr_depth += 1\n",
    "            else:\n",
    "                curr = None\n",
    "\n",
    "         \n",
    "        # We reach when curr is NULL, so We\n",
    "        # take out a right child from stack\n",
    "        if (len(st) > 0):\n",
    "\n",
    "            curr = st[-1]\n",
    "            st.pop()"
   ]
  },
  {
   "cell_type": "code",
   "execution_count": 7,
   "metadata": {},
   "outputs": [],
   "source": [
    "# Iterative function for inorder tree traversal\n",
    "def inorder(root, max_depth):\n",
    "     \n",
    "    # Set current to root of binary tree\n",
    "    current = root\n",
    "    current_depth = 0\n",
    "    stack = [] # initialize stack\n",
    "    out = []\n",
    "     \n",
    "    while True:\n",
    "         \n",
    "        # Reach the left most Node of the current Node\n",
    "        if current is not None:\n",
    "             \n",
    "            # Place pointer to a tree node on the stack\n",
    "            # before traversing the node's left subtree\n",
    "            stack.append(current)\n",
    "            current = current.left_child\n",
    "            current_depth += 1\n",
    "\n",
    "\n",
    "        # BackTrack from the empty subtree and visit the Node\n",
    "        # at the top of the stack; however, if the stack is\n",
    "        # empty you are done\n",
    "        elif(stack):\n",
    "            current = stack.pop()\n",
    "            \n",
    "            if current.depth <= max_depth:\n",
    "                out.append(current)\n",
    "         \n",
    "            # We have visited the node and its left\n",
    "            # subtree. Now, it's right subtree's turn\n",
    "            current = current.right_child\n",
    " \n",
    "        else:\n",
    "            break\n",
    "\n",
    "      \n",
    "    return(out)"
   ]
  },
  {
   "cell_type": "code",
   "execution_count": 8,
   "metadata": {},
   "outputs": [
    {
     "name": "stdout",
     "output_type": "stream",
     "text": [
      "[0]\n",
      "[1, 0, 2]\n",
      "[3, 1, 4, 0, 5, 2, 6]\n",
      "[7, 3, 8, 1, 9, 4, 10, 0, 11, 5, 12, 2, 13, 6, 14]\n"
     ]
    }
   ],
   "source": [
    "depth = 3\n",
    "root = Node(0)\n",
    "build_tree(root, depth)\n",
    "# breadth_first(root)\n",
    "# depth_first(root, 2)\n",
    "for i in range(0, depth+1):\n",
    "    out = inorder(root, i)\n",
    "    print([c.index for c in out])"
   ]
  },
  {
   "cell_type": "markdown",
   "metadata": {},
   "source": [
    "# data gen"
   ]
  },
  {
   "cell_type": "code",
   "execution_count": 9,
   "metadata": {},
   "outputs": [],
   "source": [
    "from scipy.optimize import minimize\n",
    "import scipy.stats\n",
    "import torch\n",
    "import torch.optim as optim\n",
    "import scipy\n",
    "# shifted and scaled sigmoid function\n",
    "def test_sigmoid(x, a=0, b=1.):\n",
    "    return 1 / (1 + (np.exp(-1 * (x - a) / b)))"
   ]
  },
  {
   "cell_type": "code",
   "execution_count": 10,
   "metadata": {},
   "outputs": [
    {
     "data": {
      "image/png": "[encoded data removed]",
      "text/plain": [
       "<Figure size 432x288 with 1 Axes>"
      ]
     },
     "metadata": {
      "needs_background": "light"
     },
     "output_type": "display_data"
    }
   ],
   "source": [
    "# from cutpoint_model import Model\n",
    "import numpy as np\n",
    "import matplotlib.pyplot as plt\n",
    "from math import exp\n",
    "\n",
    "N = 10000\n",
    "P = 5\n",
    "\n",
    "rs = np.random.RandomState(1978)\n",
    "\n",
    "X = rs.randn(N, P)\n",
    "w = rs.randn(P)\n",
    "\n",
    "y_prob = test_sigmoid(X @ w)\n",
    "y = (rs.rand(N) < y_prob).astype(int)\n",
    "t = (rs.randn(N) + 5 * y + (rs.rand(N)> 0.5) * 5 * y )\n",
    "\n",
    "# make times positive\n",
    "t += abs(min(t))\n",
    "\n",
    "plt.hist(t[y==0], bins=50, alpha = 0.5, color = \"blue\", label=\"False\")\n",
    "plt.hist(t[y==1], bins=50, alpha = 0.5, color = \"red\", label=\"True\")\n",
    "plt.legend()\n",
    "plt.show()"
   ]
  },
  {
   "cell_type": "code",
   "execution_count": 11,
   "metadata": {},
   "outputs": [],
   "source": [
    "# torch.autograd.set_detect_anomaly(True)\n",
    "class Model:\n",
    "    def __init__(self, X, t, sigmoid_temp = 0.01, depth = 1, cutpoint0=None, iterations = 1000):\n",
    "        self.X = torch.tensor(X, dtype=torch.float)\n",
    "        self.t = torch.tensor(t, dtype=torch.float)\n",
    "        self.t_convert = (self.t - min(self.t)) / (max(self.t) - min(self.t))\n",
    "        self.sigmoid_temp = sigmoid_temp \n",
    "        self.depth = depth\n",
    "        self.iterations = iterations\n",
    "        \n",
    "        self.n_cutpoints = 2**(depth+1)-1\n",
    "        self.theta = []\n",
    "        for curr_depth in range(0, self.depth+1):\n",
    "            self.theta.append(\n",
    "                [torch.zeros( X.shape[1]+1, requires_grad=True).float()]\n",
    "                * (sum([2**(i) for i in range(0, curr_depth+1)])+1))\n",
    "#             self.theta.append([torch.zeros( X.shape[1]+1, requires_grad=True).float() for i in range(0,2^(curr_depth)+1)])\n",
    "\n",
    "#         self.theta = [torch.zeros( X.shape[1]+1, requires_grad=True).float() for i in range(0,self.n_cutpoints)]\n",
    "        \n",
    "        self.cutpoint_logit = [torch.tensor(self.logit(torch.tensor(cutpoint)).item(), requires_grad=True) for cutpoint in cutpoint0]\n",
    "    \n",
    "        # set up cutpoint tree\n",
    "        self.root = Node(0)\n",
    "        root.left_bound = min(self.t)\n",
    "        root.right_bound = max(self.t)\n",
    "        self.root = build_tree(root, depth)\n",
    "        \n",
    "        \n",
    "    def logit(self, x):\n",
    "        return torch.log(x/ (1 - x))\n",
    "    \n",
    "    # shifted and scaled sigmoid function\n",
    "    def sigmoid(self, x, a=0, b=1.):\n",
    "        return 1 / (1 + (torch.exp(-1 * (x - a) / b)))\n",
    "    \n",
    "    \n",
    "    def pred_value(self, x, theta):\n",
    "        prod = torch.matmul(x,theta)\n",
    "        return self.sigmoid(prod)\n",
    "    \n",
    "    \n",
    "    def multinomial_loss(self, thetas, cutpoint_logits):\n",
    "\n",
    "        \n",
    "        t_scaled = (self.t - min(self.t)) / (max(self.t) - min(self.t))\n",
    "        x1 = torch.cat([self.X, torch.ones((len(self.X), 1))], axis=1)\n",
    "\n",
    "        cutpoints = [self.sigmoid(cp_logit) for cp_logit in cutpoint_logits]\n",
    "        likelihood = 0\n",
    "        prior = 0\n",
    "        \n",
    "        for lb, rb, theta in zip([0] + cutpoints, cutpoints + [1], thetas):\n",
    "            left_boundary  = self.sigmoid(t_scaled, lb, self.sigmoid_temp)\n",
    "            right_boundary = self.sigmoid(t_scaled, rb, self.sigmoid_temp)\n",
    "        \n",
    "            p_hat = self.pred_value(x1, theta)\n",
    "            likelihood += -1 * torch.mean(torch.log(p_hat) * left_boundary * right_boundary)\n",
    "    \n",
    "        \n",
    "        # prior loop\n",
    "        for lb, curr, rb in zip([0] + cutpoints[:-1], cutpoints, cutpoints[1:] + [1]):\n",
    "#             print(f\"lb:\\t{lb}\\tcurr:\\t{curr}\\trb:\\t{rb}\")\n",
    "            \n",
    "            temp = (curr - lb) / (rb - lb)\n",
    "            prior += -1 * torch.distributions.Beta(torch.tensor(1.5), torch.tensor(1.5)).log_prob(temp)\n",
    "            \n",
    "#         print('Likelihood = %.7e | Prior = %.7e' % (likelihood, prior))\n",
    "\n",
    "        return likelihood + prior\n",
    "    \n",
    "    \n",
    "    def train(self):\n",
    "        flat_theta = [item for sublist in self.theta for item in sublist]\n",
    "\n",
    "        optimizer = optim.Adam(flat_theta + self.cutpoint_logit, lr=0.001)\n",
    "        loss = 0\n",
    "        loss_layers = [0 for i in range(0, self.depth+1)]\n",
    "        iteration_num = 1\n",
    "\n",
    "        ######################################\n",
    "        # training iteration\n",
    "\n",
    "        while iteration_num < self.iterations:\n",
    "\n",
    "#             if iteration_num % 10 == 0:\n",
    "#                 print(iteration_num)\n",
    "                \n",
    "            #####################################\n",
    "            # inorder traversal\n",
    "            for current_depth in range(0, self.depth+1):\n",
    "\n",
    "                nodes = inorder(self.root, current_depth)\n",
    "                indices = [node.index for node in nodes]\n",
    "                current_thetas = self.theta[current_depth]\n",
    "                current_cutpoints_logit = [self.cutpoint_logit[i] for i in indices]\n",
    "                loss_layers[current_depth] = self.multinomial_loss(current_thetas, current_cutpoints_logit)\n",
    "            \n",
    "            # end inorder traversal\n",
    "            ###################################\n",
    "            loss = sum(loss_layers)\n",
    "            loss.backward(retain_graph=True)\n",
    "            optimizer.step()\n",
    "\n",
    "            # one optimization step\n",
    "            iteration_num += 1\n",
    "            \n",
    "        # end training iteration\n",
    "        ######################################\n",
    "\n",
    "\n"
   ]
  },
  {
   "cell_type": "code",
   "execution_count": 12,
   "metadata": {},
   "outputs": [
    {
     "name": "stdout",
     "output_type": "stream",
     "text": [
      "[1, 0, 2]\n",
      "[0.5, 0.25, 0.75]\n"
     ]
    }
   ],
   "source": [
    "depth = 1\n",
    "root = Node(0)\n",
    "build_tree(root, depth)\n",
    "inorder_traversal = inorder(root, depth)\n",
    "print([c.index for c in inorder_traversal])\n",
    "equal_spacings = [(i+1)/(2**(depth+1)) for i in range(0, 2**(depth+1) + -1)]\n",
    "cutpoint0 = [0] * len(inorder_traversal)\n",
    "\n",
    "for i in range(0, len(inorder_traversal)):\n",
    "    index = inorder_traversal[i].index\n",
    "    cutpoint0[index] = equal_spacings[i]\n",
    "\n",
    "print(cutpoint0)"
   ]
  },
  {
   "cell_type": "code",
   "execution_count": 13,
   "metadata": {},
   "outputs": [],
   "source": [
    "m = Model(X, t, depth = depth, cutpoint0=cutpoint0)\n"
   ]
  },
  {
   "cell_type": "code",
   "execution_count": 14,
   "metadata": {
    "scrolled": true
   },
   "outputs": [
    {
     "name": "stderr",
     "output_type": "stream",
     "text": [
      "C:\\Users\\jimmy\\anaconda3\\lib\\site-packages\\torch\\optim\\adam.py:74: UserWarning: optimizer contains a parameter group with duplicate parameters; in future, this will cause an error; see github.com/pytorch/pytorch/issues/40967 for more information\n",
      "  super(Adam, self).__init__(params, defaults)\n"
     ]
    }
   ],
   "source": [
    "m.train()"
   ]
  },
  {
   "cell_type": "code",
   "execution_count": 15,
   "metadata": {},
   "outputs": [
    {
     "name": "stdout",
     "output_type": "stream",
     "text": [
      "[tensor(11.4505, grad_fn=<AddBackward0>), tensor(7.7723, grad_fn=<AddBackward0>), tensor(14.3368, grad_fn=<AddBackward0>)]\n",
      "[8.402695286809909, 4.201347643404954, 12.604042930214863]\n"
     ]
    },
    {
     "data": {
      "image/png": "[encoded data removed]",
      "text/plain": [
       "<Figure size 432x288 with 1 Axes>"
      ]
     },
     "metadata": {
      "needs_background": "light"
     },
     "output_type": "display_data"
    },
    {
     "data": {
      "image/png": "[encoded data removed]",
      "text/plain": [
       "<Figure size 432x288 with 1 Axes>"
      ]
     },
     "metadata": {
      "needs_background": "light"
     },
     "output_type": "display_data"
    }
   ],
   "source": [
    "cutpoints = [ m.sigmoid(cutpoint) * (max(t) - min(t)) + min(t) for cutpoint in m.cutpoint_logit ]\n",
    "print(cutpoints)\n",
    "cutpoints_init = [cutpoint * (max(t)-min(t)) + min(t) for cutpoint in cutpoint0]\n",
    "print(cutpoints_init)\n",
    "\n",
    "plt.hist(t[y==0], bins=50, alpha = 0.5, color = \"blue\", label=\"False\")\n",
    "plt.hist(t[y==1], bins=50, alpha = 0.5, color = \"red\", label=\"True\")\n",
    "\n",
    "for cutpoint in cutpoints_init:\n",
    "    plt.axvline(cutpoint)\n",
    "    \n",
    "plt.legend()\n",
    "plt.title(\"cutpoints init\")\n",
    "plt.show()\n",
    "\n",
    "plt.hist(t[y==0], bins=50, alpha = 0.5, color = \"blue\", label=\"False\")\n",
    "plt.hist(t[y==1], bins=50, alpha = 0.5, color = \"red\", label=\"True\")\n",
    "\n",
    "for cutpoint in cutpoints:\n",
    "    plt.axvline(cutpoint)\n",
    "    \n",
    "plt.legend()\n",
    "plt.title(\"cutpoints learned\")\n",
    "plt.show()"
   ]
  },
  {
   "cell_type": "markdown",
   "metadata": {},
   "source": [
    "# sksurv"
   ]
  },
  {
   "cell_type": "markdown",
   "metadata": {},
   "source": [
    "### Breast Cancer data"
   ]
  },
  {
   "cell_type": "code",
   "execution_count": 16,
   "metadata": {},
   "outputs": [
    {
     "data": {
      "image/png": "[encoded data removed]",
      "text/plain": [
       "<Figure size 432x288 with 1 Axes>"
      ]
     },
     "metadata": {
      "needs_background": "light"
     },
     "output_type": "display_data"
    }
   ],
   "source": [
    "import pandas as pd\n",
    "import torch\n",
    "from sksurv.datasets import load_breast_cancer\n",
    "\n",
    "data_x, data_y = load_breast_cancer()\n",
    "y_df = pd.DataFrame.from_records(data_y)\n",
    "\n",
    "# cut last covariates that are strings\n",
    "X = torch.tensor(data_x.iloc[:, 1:-3].values)\n",
    "\n",
    "t = torch.from_numpy(y_df[\"t.tdm\"].values)\n",
    "\n",
    "\n",
    "plt.hist(y_df[~y_df[\"e.tdm\"]][\"t.tdm\"], bins = 20, alpha=0.5, color=\"blue\", label=\"no metastases\")\n",
    "plt.hist(y_df[y_df[\"e.tdm\"]][\"t.tdm\"], bins = 20, alpha=0.5, color=\"red\", label=\"metastases\")\n",
    "plt.legend()\n",
    "\n",
    "plt.show()"
   ]
  },
  {
   "cell_type": "code",
   "execution_count": 17,
   "metadata": {},
   "outputs": [
    {
     "name": "stdout",
     "output_type": "stream",
     "text": [
      "[0.5, 0.25, 0.75]\n"
     ]
    },
    {
     "name": "stderr",
     "output_type": "stream",
     "text": [
      "<ipython-input-11-117ce9190dc8>:4: UserWarning: To copy construct from a tensor, it is recommended to use sourceTensor.clone().detach() or sourceTensor.clone().detach().requires_grad_(True), rather than torch.tensor(sourceTensor).\n",
      "  self.X = torch.tensor(X, dtype=torch.float)\n",
      "<ipython-input-11-117ce9190dc8>:5: UserWarning: To copy construct from a tensor, it is recommended to use sourceTensor.clone().detach() or sourceTensor.clone().detach().requires_grad_(True), rather than torch.tensor(sourceTensor).\n",
      "  self.t = torch.tensor(t, dtype=torch.float)\n"
     ]
    }
   ],
   "source": [
    "depth = 1\n",
    "root = Node(0)\n",
    "build_tree(root, depth)\n",
    "inorder_traversal = inorder(root, depth)\n",
    "# print([c.index for c in inorder_traversal])\n",
    "equal_spacings = [(i+1)/(2**(depth+1)) for i in range(0, 2**(depth+1) + -1)]\n",
    "cutpoint0 = [0] * len(inorder_traversal)\n",
    "\n",
    "for i in range(0, len(inorder_traversal)):\n",
    "    index = inorder_traversal[i].index\n",
    "    cutpoint0[index] = equal_spacings[i]\n",
    "\n",
    "print(cutpoint0)\n",
    "m = Model(X, t, depth = depth, cutpoint0=cutpoint0)\n"
   ]
  },
  {
   "cell_type": "code",
   "execution_count": 18,
   "metadata": {},
   "outputs": [
    {
     "name": "stderr",
     "output_type": "stream",
     "text": [
      "C:\\Users\\jimmy\\anaconda3\\lib\\site-packages\\torch\\optim\\adam.py:74: UserWarning: optimizer contains a parameter group with duplicate parameters; in future, this will cause an error; see github.com/pytorch/pytorch/issues/40967 for more information\n",
      "  super(Adam, self).__init__(params, defaults)\n"
     ]
    }
   ],
   "source": [
    "m.train()"
   ]
  },
  {
   "cell_type": "code",
   "execution_count": 19,
   "metadata": {},
   "outputs": [
    {
     "name": "stdout",
     "output_type": "stream",
     "text": [
      "[tensor(4290.4685, dtype=torch.float64, grad_fn=<AddBackward0>), tensor(2485.5287, dtype=torch.float64, grad_fn=<AddBackward0>), tensor(7133.8343, dtype=torch.float64, grad_fn=<AddBackward0>)]\n",
      "[tensor(4616.5000, dtype=torch.float64), tensor(2370.7500, dtype=torch.float64), tensor(6862.2500, dtype=torch.float64)]\n"
     ]
    },
    {
     "data": {
      "image/png": "[encoded data removed]",
      "text/plain": [
       "<Figure size 432x288 with 1 Axes>"
      ]
     },
     "metadata": {
      "needs_background": "light"
     },
     "output_type": "display_data"
    },
    {
     "data": {
      "image/png": "[encoded data removed]",
      "text/plain": [
       "<Figure size 432x288 with 1 Axes>"
      ]
     },
     "metadata": {
      "needs_background": "light"
     },
     "output_type": "display_data"
    }
   ],
   "source": [
    "cutpoints = [ m.sigmoid(cutpoint) * (max(t) - min(t)) + min(t) for cutpoint in m.cutpoint_logit ]\n",
    "print(cutpoints)\n",
    "cutpoints_init = [cutpoint * (max(t)-min(t)) + min(t) for cutpoint in cutpoint0]\n",
    "print(cutpoints_init)\n",
    "\n",
    "plt.hist(y_df[~y_df[\"e.tdm\"]][\"t.tdm\"], bins = 20, alpha=0.5, color=\"blue\", label=\"no metastases\")\n",
    "plt.hist(y_df[y_df[\"e.tdm\"]][\"t.tdm\"], bins = 20, alpha=0.5, color=\"red\", label=\"metastases\")\n",
    "plt.legend()\n",
    "for cutpoint in cutpoints_init:\n",
    "    plt.axvline(cutpoint)\n",
    "    \n",
    "plt.legend()\n",
    "plt.title(\"cutpoints init\")\n",
    "plt.show()\n",
    "\n",
    "plt.hist(y_df[~y_df[\"e.tdm\"]][\"t.tdm\"], bins = 20, alpha=0.5, color=\"blue\", label=\"no metastases\")\n",
    "plt.hist(y_df[y_df[\"e.tdm\"]][\"t.tdm\"], bins = 20, alpha=0.5, color=\"red\", label=\"metastases\")\n",
    "plt.legend()\n",
    "for cutpoint in cutpoints:\n",
    "    plt.axvline(cutpoint)\n",
    "    \n",
    "plt.legend()\n",
    "plt.title(\"cutpoints learned\")\n",
    "plt.show()"
   ]
  },
  {
   "cell_type": "markdown",
   "metadata": {},
   "source": [
    "### Worcester Heart Attack Study\n",
    "\n",
    "The dataset has 500 samples and 14 features. The endpoint is death, which occurred for 215 patients (43.0%)."
   ]
  },
  {
   "cell_type": "code",
   "execution_count": 20,
   "metadata": {},
   "outputs": [
    {
     "data": {
      "image/png": "[encoded data removed]",
      "text/plain": [
       "<Figure size 432x288 with 1 Axes>"
      ]
     },
     "metadata": {
      "needs_background": "light"
     },
     "output_type": "display_data"
    }
   ],
   "source": [
    "from sksurv.datasets import load_whas500\n",
    "\n",
    "data_x, data_y = load_whas500()\n",
    "y_df = pd.DataFrame.from_records(data_y)\n",
    "\n",
    "\n",
    "X = torch.tensor(data_x[[\"age\", \"bmi\", \"diasbp\", \"hr\", \"los\", \"sysbp\"]].values)\n",
    "\n",
    "t = torch.from_numpy(y_df[\"lenfol\"].values)\n",
    "plt.title(\"Worcester Heart Attack Study Followup Distribution\")\n",
    "plt.hist(t[~y_df[\"fstat\"].values], color=\"blue\", alpha = 0.5, label=\"Survived\")\n",
    "plt.hist(t[y_df[\"fstat\"].values], color=\"red\", alpha = 0.5, label = \"Died\")\n",
    "plt.legend()\n",
    "plt.show()"
   ]
  },
  {
   "cell_type": "code",
   "execution_count": 25,
   "metadata": {},
   "outputs": [
    {
     "name": "stdout",
     "output_type": "stream",
     "text": [
      "[1, 0, 2]\n"
     ]
    },
    {
     "name": "stderr",
     "output_type": "stream",
     "text": [
      "<ipython-input-11-117ce9190dc8>:4: UserWarning: To copy construct from a tensor, it is recommended to use sourceTensor.clone().detach() or sourceTensor.clone().detach().requires_grad_(True), rather than torch.tensor(sourceTensor).\n",
      "  self.X = torch.tensor(X, dtype=torch.float)\n",
      "<ipython-input-11-117ce9190dc8>:5: UserWarning: To copy construct from a tensor, it is recommended to use sourceTensor.clone().detach() or sourceTensor.clone().detach().requires_grad_(True), rather than torch.tensor(sourceTensor).\n",
      "  self.t = torch.tensor(t, dtype=torch.float)\n"
     ]
    }
   ],
   "source": [
    "depth = 1\n",
    "root = Node(0)\n",
    "build_tree(root, depth)\n",
    "inorder_traversal = inorder(root, depth)\n",
    "print([c.index for c in inorder_traversal])\n",
    "equal_spacings = [(i+1)/(2**(depth+1)) for i in range(0, 2**(depth+1) + -1)]\n",
    "cutpoint0 = [0] * len(inorder_traversal)\n",
    "\n",
    "for i in range(0, len(inorder_traversal)):\n",
    "    index = inorder_traversal[i].index\n",
    "    cutpoint0[index] = equal_spacings[i]\n",
    "\n",
    "# print(cutpoint0)\n",
    "m = Model(X, t, depth = depth, cutpoint0=cutpoint0)\n"
   ]
  },
  {
   "cell_type": "code",
   "execution_count": 26,
   "metadata": {},
   "outputs": [],
   "source": [
    "m.train()"
   ]
  },
  {
   "cell_type": "code",
   "execution_count": 27,
   "metadata": {},
   "outputs": [
    {
     "name": "stdout",
     "output_type": "stream",
     "text": [
      "[tensor(1176.3459, dtype=torch.float64, grad_fn=<AddBackward0>), tensor(565.9273, dtype=torch.float64, grad_fn=<AddBackward0>), tensor(1740.0970, dtype=torch.float64, grad_fn=<AddBackward0>)]\n",
      "[tensor(1179.5000, dtype=torch.float64), tensor(590.2500, dtype=torch.float64), tensor(1768.7500, dtype=torch.float64)]\n"
     ]
    },
    {
     "data": {
      "image/png": "[encoded data removed]",
      "text/plain": [
       "<Figure size 432x288 with 1 Axes>"
      ]
     },
     "metadata": {
      "needs_background": "light"
     },
     "output_type": "display_data"
    },
    {
     "data": {
      "image/png": "[encoded data removed]",
      "text/plain": [
       "<Figure size 432x288 with 1 Axes>"
      ]
     },
     "metadata": {
      "needs_background": "light"
     },
     "output_type": "display_data"
    }
   ],
   "source": [
    "cutpoints = [ m.sigmoid(cutpoint) * (max(t) - min(t)) + min(t) for cutpoint in m.cutpoint_logit ]\n",
    "print(cutpoints)\n",
    "cutpoints_init = [cutpoint * (max(t)-min(t)) + min(t) for cutpoint in cutpoint0]\n",
    "print(cutpoints_init)\n",
    "\n",
    "\n",
    "plt.title(\"Worcester Heart Attack Study Followup Distribution\")\n",
    "plt.hist(t[~y_df[\"fstat\"].values], color=\"blue\", alpha = 0.5, label=\"Survived\")\n",
    "plt.hist(t[y_df[\"fstat\"].values], color=\"red\", alpha = 0.5, label = \"Died\")\n",
    "plt.legend()\n",
    "plt.title(\"cutpoints init\")\n",
    "\n",
    "for cutpoint in cutpoints_init:\n",
    "    plt.axvline(cutpoint)\n",
    "plt.show()\n",
    "\n",
    "plt.title(\"Worcester Heart Attack Study Followup Distribution\")\n",
    "plt.hist(t[~y_df[\"fstat\"].values], color=\"blue\", alpha = 0.5, label=\"Survived\")\n",
    "plt.hist(t[y_df[\"fstat\"].values], color=\"red\", alpha = 0.5, label = \"Died\")\n",
    "plt.legend()\n",
    "plt.title(\"cutpoints learned\")\n",
    "\n",
    "for cutpoint in cutpoints:\n",
    "    plt.axvline(cutpoint)\n",
    "plt.show()"
   ]
  },
  {
   "cell_type": "code",
   "execution_count": 28,
   "metadata": {},
   "outputs": [
    {
     "name": "stderr",
     "output_type": "stream",
     "text": [
      "<ipython-input-11-117ce9190dc8>:4: UserWarning: To copy construct from a tensor, it is recommended to use sourceTensor.clone().detach() or sourceTensor.clone().detach().requires_grad_(True), rather than torch.tensor(sourceTensor).\n",
      "  self.X = torch.tensor(X, dtype=torch.float)\n",
      "<ipython-input-11-117ce9190dc8>:5: UserWarning: To copy construct from a tensor, it is recommended to use sourceTensor.clone().detach() or sourceTensor.clone().detach().requires_grad_(True), rather than torch.tensor(sourceTensor).\n",
      "  self.t = torch.tensor(t, dtype=torch.float)\n"
     ]
    }
   ],
   "source": [
    "cutpoint0 = [0.2, 0.1, 0.3]\n",
    "m = Model(X, t, depth = depth, cutpoint0=cutpoint0)\n",
    "m.train()"
   ]
  },
  {
   "cell_type": "code",
   "execution_count": 29,
   "metadata": {},
   "outputs": [
    {
     "name": "stdout",
     "output_type": "stream",
     "text": [
      "[tensor(1016.7258, dtype=torch.float64, grad_fn=<AddBackward0>), tensor(523.6002, dtype=torch.float64, grad_fn=<AddBackward0>), tensor(1525.5458, dtype=torch.float64, grad_fn=<AddBackward0>)]\n",
      "[tensor(472.4000, dtype=torch.float64), tensor(236.7000, dtype=torch.float64), tensor(708.1000, dtype=torch.float64)]\n"
     ]
    },
    {
     "data": {
      "image/png": "[encoded data removed]",
      "text/plain": [
       "<Figure size 432x288 with 1 Axes>"
      ]
     },
     "metadata": {
      "needs_background": "light"
     },
     "output_type": "display_data"
    },
    {
     "data": {
      "image/png": "[encoded data removed]",
      "text/plain": [
       "<Figure size 432x288 with 1 Axes>"
      ]
     },
     "metadata": {
      "needs_background": "light"
     },
     "output_type": "display_data"
    }
   ],
   "source": [
    "cutpoints = [ m.sigmoid(cutpoint) * (max(t) - min(t)) + min(t) for cutpoint in m.cutpoint_logit ]\n",
    "print(cutpoints)\n",
    "cutpoints_init = [cutpoint * (max(t)-min(t)) + min(t) for cutpoint in cutpoint0]\n",
    "print(cutpoints_init)\n",
    "\n",
    "plt.title(\"Worcester Heart Attack Study Followup Distribution\")\n",
    "plt.hist(t[~y_df[\"fstat\"].values], color=\"blue\", alpha = 0.5, label=\"Survived\")\n",
    "plt.hist(t[y_df[\"fstat\"].values], color=\"red\", alpha = 0.5, label = \"Died\")\n",
    "plt.legend()\n",
    "plt.title(\"cutpoints init\")\n",
    "\n",
    "for cutpoint in cutpoints_init:\n",
    "    plt.axvline(cutpoint)\n",
    "plt.show()\n",
    "\n",
    "plt.title(\"Worcester Heart Attack Study Followup Distribution\")\n",
    "plt.hist(t[~y_df[\"fstat\"].values], color=\"blue\", alpha = 0.5, label=\"Survived\")\n",
    "plt.hist(t[y_df[\"fstat\"].values], color=\"red\", alpha = 0.5, label = \"Died\")\n",
    "plt.legend()\n",
    "plt.title(\"cutpoints learned\")\n",
    "\n",
    "for cutpoint in cutpoints:\n",
    "    plt.axvline(cutpoint)\n",
    "plt.show()"
   ]
  },
  {
   "cell_type": "markdown",
   "metadata": {},
   "source": [
    "# more modes?!"
   ]
  },
  {
   "cell_type": "code",
   "execution_count": 30,
   "metadata": {},
   "outputs": [
    {
     "data": {
      "image/png": "[encoded data removed]",
      "text/plain": [
       "<Figure size 432x288 with 1 Axes>"
      ]
     },
     "metadata": {
      "needs_background": "light"
     },
     "output_type": "display_data"
    }
   ],
   "source": [
    "# from cutpoint_model import Model\n",
    "import numpy as np\n",
    "import matplotlib.pyplot as plt\n",
    "from math import exp\n",
    "\n",
    "N = 1000\n",
    "P = 5\n",
    "\n",
    "rs = np.random.RandomState(1978)\n",
    "# python please I want a do while loop\n",
    "\n",
    "X = rs.randn(N, P)\n",
    "w = rs.randn(P)\n",
    "\n",
    "y_prob = test_sigmoid(X @ w)\n",
    "y = (rs.rand(N) < y_prob).astype(int)\n",
    "t = (rs.randn(N) + 5 * i * y )\n",
    "\n",
    "\n",
    "for i in range(0, 3):\n",
    "    X_i = rs.randn(N, P)\n",
    "    w_i = rs.randn(P)\n",
    "\n",
    "    y_prob = test_sigmoid(X_i @ w_i)\n",
    "    y_i = (rs.rand(N) < y_prob).astype(int)\n",
    "    t_i = (rs.randn(N) + 20 * i + 5 * y_i )\n",
    "    X = np.concatenate((X, X_i))\n",
    "    t = np.concatenate((t, t_i))\n",
    "    y = np.concatenate((y, y_i))\n",
    "    \n",
    "\n",
    "# make times positive\n",
    "t += abs(min(t))\n",
    "\n",
    "plt.hist(t[y==0], bins=50, alpha = 0.5, color = \"blue\", label=\"False\")\n",
    "plt.hist(t[y==1], bins=50, alpha = 0.5, color = \"red\", label=\"True\")\n",
    "plt.legend()\n",
    "plt.show()"
   ]
  },
  {
   "cell_type": "code",
   "execution_count": 31,
   "metadata": {},
   "outputs": [
    {
     "name": "stdout",
     "output_type": "stream",
     "text": [
      "[3, 1, 4, 0, 5, 2, 6]\n",
      "[0.25, 0.125, 0.375, 0.0625, 0.1875, 0.3125, 0.4375]\n"
     ]
    }
   ],
   "source": [
    "depth = 2\n",
    "root = Node(0)\n",
    "build_tree(root, depth)\n",
    "inorder_traversal = inorder(root, depth)\n",
    "print([c.index for c in inorder_traversal])\n",
    "equal_spacings = [(i+1)/(2**(depth+1)) for i in range(0, 2**(depth+1) + -1)]\n",
    "cutpoint0 = [0] * len(inorder_traversal)\n",
    "\n",
    "for i in range(0, len(inorder_traversal)):\n",
    "    index = inorder_traversal[i].index\n",
    "    cutpoint0[index] = equal_spacings[i]/2\n",
    "\n",
    "print(cutpoint0)"
   ]
  },
  {
   "cell_type": "code",
   "execution_count": 32,
   "metadata": {},
   "outputs": [],
   "source": [
    "m = Model(X, t, depth = depth, cutpoint0=cutpoint0)\n",
    "m.train()"
   ]
  },
  {
   "cell_type": "code",
   "execution_count": 33,
   "metadata": {},
   "outputs": [
    {
     "name": "stdout",
     "output_type": "stream",
     "text": [
      "[tensor(17.6848, grad_fn=<AddBackward0>), tensor(6.4815, grad_fn=<AddBackward0>), tensor(33.4426, grad_fn=<AddBackward0>), tensor(3.0780, grad_fn=<AddBackward0>), tensor(10.8425, grad_fn=<AddBackward0>), tensor(23.7762, grad_fn=<AddBackward0>), tensor(39.2656, grad_fn=<AddBackward0>)]\n",
      "[12.819149816759504, 6.409574908379752, 19.228724725139255, 3.204787454189876, 9.614362362569628, 16.02393727094938, 22.43351217932913]\n"
     ]
    },
    {
     "data": {
      "image/png": "[encoded data removed]",
      "text/plain": [
       "<Figure size 432x288 with 1 Axes>"
      ]
     },
     "metadata": {
      "needs_background": "light"
     },
     "output_type": "display_data"
    },
    {
     "data": {
      "image/png": "[encoded data removed]",
      "text/plain": [
       "<Figure size 432x288 with 1 Axes>"
      ]
     },
     "metadata": {
      "needs_background": "light"
     },
     "output_type": "display_data"
    }
   ],
   "source": [
    "cutpoints = [ m.sigmoid(cutpoint) * (max(t) - min(t)) + min(t) for cutpoint in m.cutpoint_logit ]\n",
    "print(cutpoints)\n",
    "cutpoints_init = [cutpoint * (max(t)-min(t)) + min(t) for cutpoint in cutpoint0]\n",
    "print(cutpoints_init)\n",
    "\n",
    "plt.hist(t[y==0], bins=50, alpha = 0.5, color = \"blue\", label=\"False\")\n",
    "plt.hist(t[y==1], bins=50, alpha = 0.5, color = \"red\", label=\"True\")\n",
    "\n",
    "for cutpoint in cutpoints_init:\n",
    "    plt.axvline(cutpoint)\n",
    "    \n",
    "plt.legend()\n",
    "plt.title(\"cutpoints init\")\n",
    "plt.show()\n",
    "\n",
    "plt.hist(t[y==0], bins=50, alpha = 0.5, color = \"blue\", label=\"False\")\n",
    "plt.hist(t[y==1], bins=50, alpha = 0.5, color = \"red\", label=\"True\")\n",
    "\n",
    "for cutpoint in cutpoints:\n",
    "    plt.axvline(cutpoint)\n",
    "    \n",
    "plt.legend()\n",
    "plt.title(\"cutpoints learned\")\n",
    "plt.show()"
   ]
  },
  {
   "cell_type": "code",
   "execution_count": null,
   "metadata": {},
   "outputs": [],
   "source": []
  },
  {
   "cell_type": "code",
   "execution_count": null,
   "metadata": {},
   "outputs": [],
   "source": []
  }
 ],
 "metadata": {
  "kernelspec": {
   "display_name": "Python 3",
   "language": "python",
   "name": "python3"
  },
  "language_info": {
   "codemirror_mode": {
    "name": "ipython",
    "version": 3
   },
   "file_extension": ".py",
   "mimetype": "text/x-python",
   "name": "python",
   "nbconvert_exporter": "python",
   "pygments_lexer": "ipython3",
   "version": "3.8.3"
  }
 },
 "nbformat": 4,
 "nbformat_minor": 4
}
